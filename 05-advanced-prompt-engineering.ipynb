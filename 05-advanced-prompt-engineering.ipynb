{
 "cells": [
  {
   "attachments": {},
   "cell_type": "markdown",
   "metadata": {},
   "source": [
    "# Best Practices for Prompt Engineering\n",
    "\n",
    "source: https://help.openai.com/en/articles/6654000-best-practices-for-prompt-engineering-with-openai-api\n",
    "\n",
    "Parameters \n",
    "Generally, we find that model and temperature are the most commonly used parameters to alter the model output.\n",
    "\n",
    "model - Higher performance models are generally more expensive and may have higher latency.\n",
    "\n",
    "temperature - A measure of how often the model outputs a less likely token. The higher the temperature, the more random (and usually creative) the output. This, however, is not the same as “truthfulness”. For most factual use cases such as data extraction, and truthful Q&A, the temperature of 0 is best.\n",
    "\n",
    "max_tokens (maximum length) - Does not control the length of the output, but a hard cutoff limit for token generation. Ideally you won’t hit this limit often, as your model will stop either when it thinks it’s finished, or when it hits a stop sequence you defined.\n",
    "\n",
    "stop (stop sequences) - A set of characters (tokens) that, when generated, will cause the text generation to stop.\n"
   ]
  },
  {
   "cell_type": "code",
   "execution_count": 1,
   "metadata": {},
   "outputs": [],
   "source": [
    "\n",
    "import os\n",
    "from openai import AzureOpenAI\n",
    "from dotenv import load_dotenv\n",
    "load_dotenv()\n",
    "\n",
    "client = AzureOpenAI(\n",
    "  azure_endpoint = os.getenv(\"AZURE_OPENAI_ENDPOINT\"), \n",
    "  api_key=os.getenv(\"AZURE_OPENAI_KEY\"),  \n",
    "  api_version=os.getenv(\"API_VERSION\")\n",
    ")\n",
    "\n",
    "CHAT_COMPLETIONS_MODEL = os.getenv(\"AZURE_OPENAI_MODEL\")"
   ]
  },
  {
   "attachments": {},
   "cell_type": "markdown",
   "metadata": {},
   "source": [
    "## 1. Choose the right model for your use case\n",
    "\n"
   ]
  },
  {
   "attachments": {},
   "cell_type": "markdown",
   "metadata": {},
   "source": [
    "## 2. Put instructions at the begining of the prompt and use ### or \"\"\" to separate the instruction and context"
   ]
  },
  {
   "cell_type": "code",
   "execution_count": 2,
   "metadata": {},
   "outputs": [
    {
     "name": "stdout",
     "output_type": "stream",
     "text": [
      "- Microsoft and OpenAI are extending their partnership through a multi-year, multi-billion dollar investment.\n",
      "- The partnership follows previous investments made by Microsoft in 2019 and 2021.\n",
      "- The investment will support OpenAI's independent research and the development of AI that is safe, useful, and powerful.\n",
      "- OpenAI remains a capped-profit company, governed by the OpenAI non-profit, ensuring alignment with their mission.\n",
      "- The partnership aims to ensure advanced AI benefits all of humanity, while prioritizing safety and broadly sharing the benefits.\n",
      "- Microsoft shares OpenAI's vision and values, contributing to the partnership's role in OpenAI's progress.\n"
     ]
    }
   ],
   "source": [
    "response = client.chat.completions.create(\n",
    "    model=CHAT_COMPLETIONS_MODEL,\n",
    "    messages = [{\"role\":\"system\", \"content\":\"You are a helpful assistant.\"},\n",
    "                {\"role\":\"user\",\"content\": 'Summarize the text below as a bullet point list of the most important points. \\n\\n \\\n",
    "        ###\\n\\nWe’re happy to announce that OpenAI and Microsoft are extending our partnership.\\\n",
    "        This multi-year, multi-billion dollar investment from Microsoft follows their previous investments \\\n",
    "        in 2019 and 2021, and will allow us to continue our independent research and develop AI that is \\\n",
    "        increasingly safe, useful, and powerful. \\n\\n \\\n",
    "        In pursuit of our mission to ensure advanced AI benefits all of humanity, OpenAI remains a \\\n",
    "        capped-profit company and is governed by the OpenAI non-profit. This structure allows us to \\\n",
    "        raise the capital we need to fulfill our mission without sacrificing our core beliefs about \\\n",
    "        broadly sharing benefits and the need to prioritize safety. \\\n",
    "        Microsoft shares this vision and our values, and our partnership is instrumental to our progress. \\n###',}],\n",
    "        max_tokens=400,)\n",
    "\n",
    "print(response.choices[0].message.content)"
   ]
  },
  {
   "attachments": {},
   "cell_type": "markdown",
   "metadata": {},
   "source": [
    "## 3. Be specific, descriptive and as detailed as possible about the desired context, outcome, length, format, style, etc"
   ]
  },
  {
   "cell_type": "code",
   "execution_count": 3,
   "metadata": {},
   "outputs": [
    {
     "name": "stdout",
     "output_type": "stream",
     "text": [
      "In digital realms where data streams converge,\n",
      "There lies a forge of artificial nerve,\n",
      "OpenAI, the architect of thought,\n",
      "Crafting intellect where there was naught.\n",
      "\n",
      "With algorithms fine, like artisan's hand,\n",
      "It molds the zeros in a neural strand,\n",
      "A symphony of code that deftly plays\n",
      "The ballad of synthetic, wondrous ways.\n",
      "\n",
      "From GPT to DALL-E's visual arts,\n",
      "OpenAI explores intelligence's parts,\n",
      "Expanding bounds of what machines can be,\n",
      "A\n"
     ]
    }
   ],
   "source": [
    "response = client.chat.completions.create(\n",
    "    model=CHAT_COMPLETIONS_MODEL,\n",
    "    messages = [{\"role\":\"system\", \"content\":\"You are a helpful assistant.\"},\n",
    "                {\"role\":\"user\",\"content\": 'Write a poem about OpenAI.',}],\n",
    "        max_tokens=100,\n",
    "        seed = 5)\n",
    "\n",
    "print(response.choices[0].message.content)"
   ]
  },
  {
   "cell_type": "code",
   "execution_count": 4,
   "metadata": {},
   "outputs": [
    {
     "name": "stdout",
     "output_type": "stream",
     "text": [
      "In the pixel's glow and the algorithm's might,\n",
      "OpenAI takes a grand, uncharted flight.\n",
      "Behold DALL-E, where dreams intertwine,\n",
      "In the canvas of code, creation's line.\n",
      "\n",
      "A forge of worlds from a prompt so slight,\n",
      "The machine, it stirs, bringing visions to light.\n",
      "Emboldened by science, an artful sign,\n",
      "Crafted deeply in Hemingway's design.\n",
      "\n",
      "Machines that learn, and glow with a glean,\n",
      "Painting vistas that once were unseen.\n",
      "Borne of minds that never resign,\n",
      "Pushing frontiers in a relentless line.\n",
      "\n",
      "In the still of thought where the muses play,\n",
      "DALL-E emerges in the light of day.\n",
      "A tool for many, not just the refined,\n",
      "Sparking wonders for all of humankind.\n",
      "\n",
      "No longer mere words on a page,\n",
      "But a tapestry of eras it can gauge.\n",
      "Bold OpenAI, with each algorithmic assign,\n",
      "Crafts a future in strokes both clear and benign\n"
     ]
    }
   ],
   "source": [
    "response = client.chat.completions.create(\n",
    "    model=CHAT_COMPLETIONS_MODEL,\n",
    "    messages = [{\"role\":\"system\", \"content\":\"You are a helpful assistant.\"},\n",
    "                {\"role\":\"user\",\"content\": 'Write a short inspiring poem about OpenAI, \\\n",
    "                focusing on the recent DALL-E product launch in the style of Ernest Hemingway',}],\n",
    "        max_tokens=200,)\n",
    "\n",
    "print(response.choices[0].message.content)"
   ]
  },
  {
   "attachments": {},
   "cell_type": "markdown",
   "metadata": {},
   "source": [
    "## 4. Articulate the desired output format through examples (example 1, example 2). "
   ]
  },
  {
   "cell_type": "code",
   "execution_count": 5,
   "metadata": {},
   "outputs": [
    {
     "name": "stdout",
     "output_type": "stream",
     "text": [
      "To extract the company names and the years, as well as their start and end indices within the text, I will identify each entity and their position in the provided text.\n",
      "\n",
      "Here is the text with the entities highlighted and their start and end indices calculated:\n",
      "\n",
      "\"We’re happy to announce that **OpenAI** and **Microsoft** are extending our partnership. This multi-year, multi-billion dollar investment from **Microsoft** follows their previous investments in **2019** and **2021**, and will allow us to continue our independent research and develop AI that is increasingly safe, useful, and powerful.\"\n",
      "\n",
      "Entities and indices:\n",
      "- OpenAI (start index: 28, end index: 34)\n",
      "- Microsoft (first occurrence, start index: 39, end index: 48)\n",
      "- Microsoft (second occurrence, start index: 131, end index: 140)\n",
      "- 2019 (start index: 161, end index: 165)\n",
      "- 2021 (start index: 170, end index: 174)\n",
      "\n",
      "Based on the entities identified above, here are the output objects in the requested format:\n",
      "\n",
      "```json\n",
      "{\"text\": \"OpenAI\", \"start\": 28, \"end\": 34}\n",
      "{\"text\": \"Microsoft\", \"start\": 39, \"end\": 48}\n",
      "{\"text\": \"Microsoft\", \"start\": 131, \"end\": 140}\n",
      "{\"text\": \"2019\", \"start\": 161, \"end\": 165}\n",
      "{\"text\": \"2021\", \"start\": 170, \"end\": 174}\n",
      "```\n"
     ]
    }
   ],
   "source": [
    "response = client.chat.completions.create(\n",
    "    model=CHAT_COMPLETIONS_MODEL,\n",
    "    messages = [{\"role\":\"system\", \"content\":\"You are a helpful assistant.\"},\n",
    "                {\"role\":\"user\",\"content\": 'Extract the company names then years in the following text below and output start index and end index of each entity.\\\n",
    "                Generate output as {\"text\": \"OpenAI\", \"start\": 28, \"end\": 34} \\\n",
    "                ###\\\n",
    "                We’re happy to announce that OpenAI and Microsoft are extending our partnership.\\\n",
    "                This multi-year, multi-billion dollar investment from Microsoft follows their previous investments \\\n",
    "                in 2019 and 2021, and will allow us to continue our independent research and develop AI that is \\\n",
    "                increasingly safe, useful, and powerful. \\n\\n \\\n",
    "                ###\\\n",
    "                ',}],\n",
    "        max_tokens=400,)\n",
    "\n",
    "print(response.choices[0].message.content)"
   ]
  },
  {
   "cell_type": "code",
   "execution_count": 6,
   "metadata": {},
   "outputs": [
    {
     "name": "stdout",
     "output_type": "stream",
     "text": [
      "Company names: OpenAI, Microsoft\n",
      "Years: 2019, 2021\n",
      "Specific topics: partnership extension, multi-billion dollar investment, independent research, AI development, safety in AI, usefulness of AI, power of AI\n",
      "General themes: AI technology advancement, corporate investment, research and development collaboration, technological innovation partnerships, AI ethics and safety\n"
     ]
    }
   ],
   "source": [
    "response = client.chat.completions.create(\n",
    "    model=CHAT_COMPLETIONS_MODEL,\n",
    "    messages = [{\"role\":\"system\", \"content\":\"You are a helpful assistant.\"},\n",
    "                {\"role\":\"user\",\"content\": 'Extract the entities mentioned in the text below. \\\n",
    "                Extract the important entities mentioned in the text below. \\\n",
    "                First extract all company names, then extract all years, \\\n",
    "                then extract specific topics which fit the content and finally extract general overarching themes\\n\\n \\\n",
    "                Desired format: \\\n",
    "                Company names: <comma_separated_list_of_company_names> \\\n",
    "                Years: -||- \\\n",
    "                Specific topics: -||- \\\n",
    "                General themes: -||- \\\n",
    "                \"\"\"\\\n",
    "                We’re happy to announce that OpenAI and Microsoft are extending our partnership.\\\n",
    "                This multi-year, multi-billion dollar investment from Microsoft follows their previous investments \\\n",
    "                in 2019 and 2021, and will allow us to continue our independent research and develop AI that is \\\n",
    "                increasingly safe, useful, and powerful. \\n\\n \\\n",
    "                \"\"\"\\\n",
    "                ',}],\n",
    "        max_tokens=400,)\n",
    "\n",
    "print(response.choices[0].message.content)"
   ]
  },
  {
   "attachments": {},
   "cell_type": "markdown",
   "metadata": {},
   "source": [
    "## 5. Start with zero-shot, then few-shot (example), neither of them worked, you can consider fine tuning(lab 09)"
   ]
  },
  {
   "cell_type": "code",
   "execution_count": 7,
   "metadata": {},
   "outputs": [
    {
     "name": "stdout",
     "output_type": "stream",
     "text": [
      "- OpenAI\n",
      "- Microsoft\n",
      "- partnership extending\n",
      "- multi-year\n",
      "- multi-billion dollar investment\n",
      "- previous investments\n",
      "- 2019\n",
      "- 2021\n",
      "- independent research\n",
      "- AI development\n",
      "- safe AI\n",
      "- useful AI\n",
      "- powerful AI\n"
     ]
    }
   ],
   "source": [
    "response = client.chat.completions.create(\n",
    "    model=CHAT_COMPLETIONS_MODEL,\n",
    "    messages = [{\"role\":\"system\", \"content\":\"You are a helpful assistant. Extract keywords from the corresponding texts below.\"},\n",
    "                {\"role\":\"user\",\"content\": 'Text: \\n\\\n",
    "            We’re happy to announce that OpenAI and Microsoft are extending our partnership.\\\n",
    "            This multi-year, multi-billion dollar investment from Microsoft follows their previous investments \\\n",
    "            in 2019 and 2021, and will allow us to continue our independent research and develop AI that is \\\n",
    "            increasingly safe, useful, and powerful. \\n\\nKeywords:    ',}],\n",
    "        max_tokens=400,)\n",
    "\n",
    "print(response.choices[0].message.content)"
   ]
  },
  {
   "cell_type": "code",
   "execution_count": 8,
   "metadata": {},
   "outputs": [
    {
     "name": "stdout",
     "output_type": "stream",
     "text": [
      "Keywords: OpenAI, Microsoft, partnership, investment, independent research, AI development, safety, usefulness, power.\n"
     ]
    }
   ],
   "source": [
    "response = client.chat.completions.create(\n",
    "    model=CHAT_COMPLETIONS_MODEL,\n",
    "    messages = [{\"role\":\"system\", \"content\":\"You are a helpful assistant. Extract keywords from the corresponding texts below.\\n\\n \\\n",
    "                Text: Stripe provides APIs that web developers can use to integrate \\\n",
    "                payment processing into their websites and mobile applications. \\\n",
    "                Keywords: Stripe, payment processing, APIs, web developers, websites, mobile applications \\\n",
    "                ###\\n\\\n",
    "                Text: OpenAI has trained cutting-edge language models that are very good at understanding \\\n",
    "                and generating text. Our API provides access to these models and can be used to solve virtually \\\n",
    "                any task that involves processing language. \\n\\\n",
    "                Keywords: language models, text processing, API.\\n\\n\\\n",
    "                ##W\"},\n",
    "                {\"role\":\"user\",\"content\": '\\n\\\n",
    "                Text: We’re happy to announce that OpenAI and Microsoft are extending our partnership.\\\n",
    "                This multi-year, multi-billion dollar investment from Microsoft follows their previous investments \\\n",
    "                in 2019 and 2021, and will allow us to continue our independent research and develop AI that is \\\n",
    "                increasingly safe, useful, and powerful. \\n\\n\\\n",
    "                Keywords:',}],\n",
    "        max_tokens=400,)\n",
    "\n",
    "print(response.choices[0].message.content)"
   ]
  },
  {
   "attachments": {},
   "cell_type": "markdown",
   "metadata": {},
   "source": [
    "## 6. Reduce “fluffy” and imprecise descriptions"
   ]
  },
  {
   "cell_type": "code",
   "execution_count": 9,
   "metadata": {},
   "outputs": [
    {
     "name": "stdout",
     "output_type": "stream",
     "text": [
      "Introducing our latest innovation in child safety: the SafeGuardPro Car Seat. Designed with state-of-the-art materials, this next-generation car seat combines unparalleled protection with ultimate comfort. Its revolutionary SmartSecure system enables effortless, precise installation, while adaptive cushioning technology ensures your little one enjoys a cozy ride. Equipped with advanced side-impact defense and a user-friendly, adjustable harness, the SafeGuardPro provides peace of mind for every journey, making it the smart, secure choice for modern families on the move.\n"
     ]
    }
   ],
   "source": [
    "response = client.chat.completions.create(\n",
    "    model=CHAT_COMPLETIONS_MODEL,\n",
    "    messages = [{\"role\":\"system\", \"content\":\"You are a helpful assistant.\"},\n",
    "                {\"role\":\"user\",\"content\": 'Write a description for a new product. This product is a new generation of car seat. \\\n",
    "                The description for this product should be fairly short, a few sentences only, and not too much more.',}],\n",
    "        max_tokens=400,)\n",
    "\n",
    "print(response.choices[0].message.content)"
   ]
  },
  {
   "cell_type": "code",
   "execution_count": 10,
   "metadata": {},
   "outputs": [
    {
     "name": "stdout",
     "output_type": "stream",
     "text": [
      "Experience the future of automobile safety and comfort with our innovative new generation car seat, designed to seamlessly integrate into your vehicle. This state-of-the-art seat features advanced materials for unparalleled support and durability, complemented by a smart system that automatically adjusts to each passenger's unique body shape, providing optimal comfort and protection. It comes equipped with built-in sensors that monitor and respond to collision threats, activating enhanced safety measures in a fraction of a second. Additionally, the seat's sleek design and customizable features ensure it not only raises the bar for safety but also adds a touch of modern elegance to your car's interior. With our new generation car seat, you can enjoy peace of mind on the road, knowing that your loved ones are cradled in the latest evolution of automotive safety technology.\n"
     ]
    }
   ],
   "source": [
    "response = client.chat.completions.create(\n",
    "    model=CHAT_COMPLETIONS_MODEL,\n",
    "    messages = [{\"role\":\"system\", \"content\":\"You are a helpful assistant.\"},\n",
    "                {\"role\":\"user\",\"content\": 'Write a description for a new product. This product is a new generation of car seat. \\\n",
    "                Use a 3 to 5 sentence paragraph to describe this product.',}],\n",
    "        max_tokens=400,)\n",
    "\n",
    "print(response.choices[0].message.content)"
   ]
  },
  {
   "attachments": {},
   "cell_type": "markdown",
   "metadata": {},
   "source": [
    "## 7. Instead of just saying what not to do, say what to do instead"
   ]
  },
  {
   "cell_type": "code",
   "execution_count": 11,
   "metadata": {},
   "outputs": [
    {
     "name": "stdout",
     "output_type": "stream",
     "text": [
      "I'm sorry to hear that you're having trouble logging into your account. Let's see if we can resolve the issue. Could you please tell me if you are receiving any error messages, or describe what happens when you try to log in?\n"
     ]
    }
   ],
   "source": [
    "response = client.chat.completions.create(\n",
    "    model=CHAT_COMPLETIONS_MODEL,\n",
    "    messages = [{\"role\":\"system\", \"content\":\"You are a helpful assistant.\"},\n",
    "                {\"role\":\"user\",\"content\": 'The following is a conversation between an Agent and a Customer. DO NOT ASK USERNAME OR PASSWORD. DO NOT REPEAT. \\n\\n\\\n",
    "                Customer: I can’t log in to my account.\\n\\\n",
    "                Agent:',}],\n",
    "        max_tokens=400,)\n",
    "\n",
    "print(response.choices[0].message.content)\n"
   ]
  },
  {
   "cell_type": "code",
   "execution_count": 12,
   "metadata": {},
   "outputs": [
    {
     "name": "stdout",
     "output_type": "stream",
     "text": [
      "I'm sorry to hear that you are having trouble logging in. There are a couple of common reasons this might happen, such as incorrect login credentials, account being locked, or a technical issue with the website.\n",
      "\n",
      "First, I recommend checking to make sure that you are entering the correct username and password. If you're unsure of your login details or if you've forgotten them, you can reset your password or retrieve your username by following the steps outlined in our help article at www.samplewebsite.com/help/faq.\n",
      "\n",
      "If you've already tried resetting your credentials and still can't access your account, there might be a temporary issue with the website, or your account may have been locked for security reasons. In that case, please refer to the FAQ section under 'Account Access Issues' for further instructions on how to resolve this issue.\n",
      "\n",
      "If the problem persists, you can also find information on how to contact our support team for additional assistance on the same help page. They will be glad to assist you further. Please make sure you have access to the email address associated with your account when you reach out, as they will use that to help verify your identity without asking for PII over this channel.\n"
     ]
    }
   ],
   "source": [
    "response = client.chat.completions.create(\n",
    "    model=CHAT_COMPLETIONS_MODEL,\n",
    "    messages = [{\"role\":\"system\", \"content\":\"You are a helpful assistant.\"},\n",
    "                {\"role\":\"user\",\"content\":'The following is a conversation between an Agent and a Customer. The agent will attempt to diagnose the \\\n",
    "                problem and suggest a solution, whilst refraining from asking any questions related to PII. \\\n",
    "                Instead of asking for PII, such as username or password, refer the user to the help \\\n",
    "                article www.samplewebsite.com/help/faq \\n\\n\\\n",
    "                Customer: I can’t log in to my account. \\n\\\n",
    "                Agent:',}],\n",
    "        max_tokens=400,)\n",
    "\n",
    "print(response.choices[0].message.content)\n"
   ]
  },
  {
   "attachments": {},
   "cell_type": "markdown",
   "metadata": {},
   "source": [
    "## 8. Code Generation Specific - Use “leading words” to nudge the model toward a particular pattern"
   ]
  },
  {
   "cell_type": "code",
   "execution_count": 13,
   "metadata": {},
   "outputs": [
    {
     "name": "stdout",
     "output_type": "stream",
     "text": [
      "Here's a simple Python function that will prompt you for a number in miles and convert it to kilometers:\n",
      "\n",
      "```python\n",
      "def miles_to_kilometers():\n",
      "    # Ask for a number in miles\n",
      "    miles = float(input(\"Enter a number in miles: \"))\n",
      "    \n",
      "    # Conversion factor from miles to kilometers\n",
      "    conversion_factor = 1.609344\n",
      "    \n",
      "    # Convert miles to kilometers\n",
      "    kilometers = miles * conversion_factor\n",
      "    \n",
      "    # Display the result\n",
      "    print(f\"{miles} miles is equal to {kilometers} kilometers.\")\n",
      "    \n",
      "# Call the function\n",
      "miles_to_kilometers()\n",
      "```\n",
      "\n",
      "You can run this code in a Python environment. The function will ask you to enter a number (representing miles), then it will convert that number to kilometers using the conversion factor where 1 mile is approximately equal to 1.609344 kilometers, and finally, it will print out the result.\n"
     ]
    }
   ],
   "source": [
    "response = client.chat.completions.create(\n",
    "    model=CHAT_COMPLETIONS_MODEL,\n",
    "    messages = [{\"role\":\"system\", \"content\":\"You are a helpful assistant.\"},\n",
    "                {\"role\":\"user\",\"content\":'# Write a simple python function that \\n\\\n",
    "                # 1. Ask me for a number in mile\\n\\\n",
    "                # 2. It converts miles to kilometers',}],\n",
    "        max_tokens=400,)\n",
    "\n",
    "print(response.choices[0].message.content)\n"
   ]
  },
  {
   "cell_type": "code",
   "execution_count": 14,
   "metadata": {},
   "outputs": [
    {
     "name": "stdout",
     "output_type": "stream",
     "text": [
      "Below is a simple Python function that does just that. The function `miles_to_kilometers` will prompt you to enter a number in miles, and then it will convert that number to kilometers and print the result. In order to use this script, you just need to run it in a Python environment.\n",
      "\n",
      "```python\n",
      "def miles_to_kilometers():\n",
      "    # Asking for input, a number in miles\n",
      "    miles = float(input(\"Please enter the number of miles: \"))\n",
      "    \n",
      "    # Conversion factor: 1 mile is approximately 1.60934 kilometers\n",
      "    kilometers = miles * 1.60934\n",
      "    \n",
      "    # Printing the converted value in kilometers\n",
      "    print(f\"{miles} miles is equal to {kilometers} kilometers.\")\n",
      "\n",
      "# Calling the function to execute\n",
      "miles_to_kilometers()\n",
      "```\n",
      "\n",
      "To use this function, you can just copy the code into a Python file and then run that file with Python. When the function call `miles_to_kilometers()` executes, Python will prompt you for input through the console. After you enter a number, it'll show you the equivalent distance in kilometers.\n"
     ]
    }
   ],
   "source": [
    "response = client.chat.completions.create(\n",
    "    model=CHAT_COMPLETIONS_MODEL,\n",
    "    messages = [{\"role\":\"system\", \"content\":\"You are a helpful assistant.\"},\n",
    "                {\"role\":\"user\",\"content\":'# Write a simple python function that \\n\\\n",
    "                # 1. Ask me for a number in mile\\n\\\n",
    "                # 2. It converts miles to kilometers\\n\\\n",
    "                 import ',}],\n",
    "        max_tokens=400,)\n",
    "\n",
    "print(response.choices[0].message.content)\n"
   ]
  }
 ],
 "metadata": {
  "kernelspec": {
   "display_name": "base",
   "language": "python",
   "name": "python3"
  },
  "language_info": {
   "codemirror_mode": {
    "name": "ipython",
    "version": 3
   },
   "file_extension": ".py",
   "mimetype": "text/x-python",
   "name": "python",
   "nbconvert_exporter": "python",
   "pygments_lexer": "ipython3",
   "version": "3.11.8"
  },
  "orig_nbformat": 4,
  "vscode": {
   "interpreter": {
    "hash": "0ac0e7d245f35f05656c1dae54880a0902b050693b3e66826fb0a7033a44f77d"
   }
  }
 },
 "nbformat": 4,
 "nbformat_minor": 2
}
