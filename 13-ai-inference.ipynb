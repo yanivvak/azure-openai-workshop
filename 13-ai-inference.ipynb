{
 "cells": [
  {
   "cell_type": "markdown",
   "metadata": {},
   "source": [
    "\n",
    "# DESCRIPTION:\n",
    "This sample demonstrates how to get a chat completions response from\n",
    "the service using a synchronous client.\n",
    "\n",
    "This sample assumes the AI model is hosted on a Serverless API or\n",
    "Managed Compute endpoint or Azure OpenAI endpoints,\n",
    "\n",
    "Set these two environment variables before running the sample:\n",
    "1) AZURE_AI_CHAT_ENDPOINT - Your endpoint URL, in the form \n",
    "    https://<your-deployment-name>.<your-azure-region>.models.ai.azure.com\n",
    "    where `your-deployment-name` is your unique AI Model deployment name, and\n",
    "    `your-azure-region` is the Azure region where your model is deployed.\n",
    "2) AZURE_AI_CHAT_KEY - Your model key (a 32-character string). Keep it secret.\n"
   ]
  },
  {
   "cell_type": "code",
   "execution_count": 14,
   "metadata": {},
   "outputs": [
    {
     "name": "stdout",
     "output_type": "stream",
     "text": [
      "There are **5,280 feet** in a mile.\n"
     ]
    }
   ],
   "source": [
    "import os\n",
    "from azure.ai.inference import ChatCompletionsClient\n",
    "from azure.ai.inference.models import SystemMessage, UserMessage\n",
    "from azure.core.credentials import AzureKeyCredential\n",
    "from azure.identity import DefaultAzureCredential\n",
    "\n",
    "# For Azure OpenAI endpoint\n",
    "\n",
    "endpoint=os.getenv(\"AZURE_INFERENCE_ENDPOINT\")\n",
    "key=os.getenv(\"AZURE_OPENAI_KEY\")\n",
    "\n",
    "#client = ChatCompletionsClient(endpoint=endpoint, credential=AzureKeyCredential(key),api_version=\"2024-06-01\")\n",
    "\n",
    "client = ChatCompletionsClient(\n",
    "    endpoint=endpoint,\n",
    "    credential=DefaultAzureCredential(exclude_interactive_browser_credential=False),\n",
    "    credential_scopes=[\"https://cognitiveservices.azure.com/.default\"],\n",
    "    api_version=\"2024-06-01\",  # Azure OpenAI api-version. See https://aka.ms/azsdk/azure-ai-inference/azure-openai-api-versions\n",
    ")\n",
    "\n",
    "response = client.complete(\n",
    "    messages=[\n",
    "        SystemMessage(content=\"You are a helpful assistant.\"),\n",
    "        UserMessage(content=\"How many feet are in a mile?\"),\n",
    "    ]\n",
    ")\n",
    "\n",
    "print(response.choices[0].message.content)\n",
    "\n"
   ]
  },
  {
   "cell_type": "code",
   "execution_count": 15,
   "metadata": {},
   "outputs": [
    {
     "name": "stdout",
     "output_type": "stream",
     "text": [
      " There are 5,280 feet in a mile. This conversion is often used in the United States to measure distances.\n"
     ]
    }
   ],
   "source": [
    "#az role assignment create --role \"Azure AI Developer\" --assignee \"<your-email>\" --resource-group \"<resource-group-name>\"\n",
    "\n",
    "# For serverless endpoints\n",
    "\n",
    "\n",
    "endpoint=os.getenv(\"AZURE_INFERENCE_ENDPOINT_S\")\n",
    "key=os.getenv(\"AZURE_SERVERLESS_KEY\")\n",
    "\n",
    "client = ChatCompletionsClient(\n",
    "    endpoint=endpoint,# Of the form https://<your-host-name>.<your-azure-region>.models.ai.azure.com\n",
    "    #credential=AzureKeyCredential(key),\n",
    "    credential=DefaultAzureCredential(exclude_interactive_browser_credential=False)\n",
    ")\n",
    "response = client.complete(\n",
    "    messages=[\n",
    "        SystemMessage(content=\"You are a helpful assistant.\"),\n",
    "        UserMessage(content=\"How many feet are in a mile?\"),\n",
    "    ]\n",
    ")\n",
    "\n",
    "print(response.choices[0].message.content)"
   ]
  },
  {
   "cell_type": "code",
   "execution_count": 16,
   "metadata": {},
   "outputs": [
    {
     "name": "stdout",
     "output_type": "stream",
     "text": [
      "There are 5,280 feet in a mile.\n"
     ]
    }
   ],
   "source": [
    "#az ad signed-in-user show --query id -o tsv\n",
    "#az role assignment create --assignee <identityId> --role \"AzureML Data Scientist\" --scope /subscriptions/<subscriptionId>/resourcegroups/<resourceGroupName>/providers/Microsoft.MachineLearningServices/workspaces/<workspaceName>\n",
    "\n",
    "# For managed endpoints\n",
    "endpoint=os.getenv(\"AZURE_INFERENCE_ENDPOINT_M\")\n",
    "key=os.getenv(\"AZURE_MANAGED_KEY\")\n",
    "\n",
    "client = ChatCompletionsClient(\n",
    "    endpoint=endpoint,#\n",
    "    credential=AzureKeyCredential(key),\n",
    "    #credential=DefaultAzureCredential(exclude_interactive_browser_credential=False)\n",
    ")\n",
    "response = client.complete(\n",
    "    messages=[\n",
    "        SystemMessage(content=\"You are a helpful assistant.\"),\n",
    "        UserMessage(content=\"How many feet are in a mile?\"),\n",
    "    ]\n",
    ")\n",
    "\n",
    "print(response.choices[0].message.content)"
   ]
  }
 ],
 "metadata": {
  "kernelspec": {
   "display_name": ".venv",
   "language": "python",
   "name": "python3"
  },
  "language_info": {
   "codemirror_mode": {
    "name": "ipython",
    "version": 3
   },
   "file_extension": ".py",
   "mimetype": "text/x-python",
   "name": "python",
   "nbconvert_exporter": "python",
   "pygments_lexer": "ipython3",
   "version": "3.12.7"
  }
 },
 "nbformat": 4,
 "nbformat_minor": 2
}
