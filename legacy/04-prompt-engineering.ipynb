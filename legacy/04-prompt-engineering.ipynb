{
 "cells": [
  {
   "cell_type": "code",
   "execution_count": 1,
   "metadata": {},
   "outputs": [],
   "source": [
    "import os\n",
    "from openai import AzureOpenAI\n",
    "from dotenv import load_dotenv\n",
    "load_dotenv()\n",
    "\n",
    "# Get configuration settings \n",
    "azure_oai_endpoint = os.getenv(\"AZURE_OPENAI_ENDPOINT\")\n",
    "azure_oai_key = os.getenv(\"AZURE_OPENAI_KEY\")\n",
    "azure_oai_model = os.getenv(\"AZURE_OPENAI_MODEL\")\n",
    "api_version = os.getenv(\"API_VERSION\")"
   ]
  },
  {
   "cell_type": "code",
   "execution_count": 2,
   "metadata": {},
   "outputs": [],
   "source": [
    "# Configure the Azure OpenAI client\n",
    "client = AzureOpenAI(\n",
    "    azure_endpoint = azure_oai_endpoint, \n",
    "    api_key=azure_oai_key,  \n",
    "    api_version=api_version\n",
    "    )"
   ]
  },
  {
   "cell_type": "markdown",
   "metadata": {},
   "source": [
    "1: Basic prompt (no prompt engineering) -> basic.txt"
   ]
  },
  {
   "cell_type": "code",
   "execution_count": 3,
   "metadata": {},
   "outputs": [
    {
     "name": "stdout",
     "output_type": "stream",
     "text": [
      "System message: You are an AI assistant\n",
      "User message: Write an intro for a new wildlife Rescue\n",
      "Completion: \n",
      "\n",
      "**Welcome to Wild Haven Rescue: A Sanctuary for Nature's Most Vulnerable**\n",
      "\n",
      "Nestled in the heart of nature's untouched beauty, Wild Haven Rescue is a beacon of hope and healing for wildlife in need. Our mission is to rescue, rehabilitate, and release injured and orphaned animals back into their natural habitats, ensuring they thrive in the wild where they belong. At Wild Haven, we believe every creature plays a vital role in the ecosystem, and it is our duty to protect and preserve the delicate balance of nature.\n",
      "\n",
      "Our dedicated team of wildlife experts, veterinarians, and volunteers work tirelessly to provide the highest standard of care for each animal that comes through our doors. From majestic birds of prey to elusive mammals and delicate amphibians, we are equipped to handle a diverse array of species, each with unique needs and challenges.\n",
      "\n",
      "Join us on this incredible journey as we strive to make a difference, one life at a time. Whether through volunteering, donating, or simply spreading awareness, your support is crucial in helping us create a safer, more compassionate world for wildlife. Together, we can ensure that future generations inherit a planet rich in biodiversity and wonder.\n",
      "\n",
      "Welcome to Wild Haven Rescue—where every life matters, and every effort counts.\n"
     ]
    }
   ],
   "source": [
    "\n",
    "# In this sample, each file contains both the system and user messages\n",
    "# First, read them into variables, strip whitespace, then build the messages array\n",
    "\n",
    "with open(\"data/prompts/basic.txt\", \"r\", encoding=\"utf8\") as file:\n",
    "    system_message = file.readline().split(':', 1)[1].strip()\n",
    "    user_message = file.readline().split(':', 1)[1].strip()\n",
    "\n",
    "# Print the messages to the console\n",
    "print(\"System message: \" + system_message)\n",
    "print(\"User message: \" + user_message)\n",
    "\n",
    "# Format and send the request to the model\n",
    "messages =[\n",
    "{\"role\": \"system\", \"content\": system_message},\n",
    "{\"role\": \"user\", \"content\": user_message},\n",
    "]\n",
    "\n",
    "# Call the Azure OpenAI model\n",
    "response = client.chat.completions.create(\n",
    "model=azure_oai_model,\n",
    "messages=messages,\n",
    "temperature=0.2,\n",
    "max_tokens=300\n",
    ")\n",
    "\n",
    "print(\"Completion: \\n\\n\" + response.choices[0].message.content)"
   ]
  },
  {
   "cell_type": "markdown",
   "metadata": {},
   "source": [
    "2: Prompt with email formatting and basic system message -> email-format.txt"
   ]
  },
  {
   "cell_type": "code",
   "execution_count": 4,
   "metadata": {},
   "outputs": [
    {
     "name": "stdout",
     "output_type": "stream",
     "text": [
      "System message: You are an AI assistant helping to write emails\n",
      "User message: Write a promotional email for a new wildlife rescue, including the following: - Rescue name is Contoso - It specializes in elephants - Call for donations to be given at our website\n",
      "Completion: \n",
      "\n",
      "Subject: Join Us in Saving Elephants: Support Contoso Wildlife Rescue Today!\n",
      "\n",
      "Dear [Recipient's Name],\n",
      "\n",
      "We are thrilled to introduce Contoso Wildlife Rescue, a new sanctuary dedicated to the protection and rehabilitation of one of the world's most majestic creatures—elephants. At Contoso, we are committed to providing a safe haven for elephants in need, offering them the care and environment they deserve to thrive.\n",
      "\n",
      "Our mission is to rescue, rehabilitate, and release elephants back into their natural habitats, ensuring they have a future free from harm. With your support, we can make a significant impact on the lives of these incredible animals and contribute to the conservation of their species.\n",
      "\n",
      "**How You Can Help:**\n",
      "\n",
      "We invite you to join us in our mission by making a donation to Contoso Wildlife Rescue. Your generous contributions will directly support:\n",
      "\n",
      "- Medical care and rehabilitation for rescued elephants\n",
      "- Expansion of our sanctuary facilities\n",
      "- Research and conservation efforts\n",
      "- Educational programs to raise awareness about elephant conservation\n",
      "\n",
      "Every donation, big or small, makes a difference. To contribute, please visit our website at [www.contosowildliferescue.org](http://www.contosowildliferescue.org) and click on the \"Donate\" button. Together, we can ensure a brighter future for elephants.\n",
      "\n",
      "Thank you for considering supporting Contoso Wildlife Rescue. With your help, we can create a world where elephants are protected and cherished for generations to come.\n",
      "\n",
      "Warm regards,\n",
      "\n",
      "[Your Name]\n"
     ]
    }
   ],
   "source": [
    "\n",
    "with open(\"data/prompts/email-format.txt\", \"r\", encoding=\"utf8\") as file:\n",
    "    system_message = file.readline().split(':', 1)[1].strip()\n",
    "    user_message = file.readline().split(':', 1)[1].strip()\n",
    "\n",
    "# Print the messages to the console\n",
    "print(\"System message: \" + system_message)\n",
    "print(\"User message: \" + user_message)\n",
    "\n",
    "# Format and send the request to the model\n",
    "messages =[\n",
    "{\"role\": \"system\", \"content\": system_message},\n",
    "{\"role\": \"user\", \"content\": user_message},\n",
    "]\n",
    "\n",
    "# Call the Azure OpenAI model\n",
    "response = client.chat.completions.create(\n",
    "model=azure_oai_model,\n",
    "messages=messages,\n",
    "temperature=0.2,\n",
    "max_tokens=300\n",
    ")\n",
    "\n",
    "print(\"Completion: \\n\\n\" + response.choices[0].message.content)"
   ]
  },
  {
   "cell_type": "markdown",
   "metadata": {},
   "source": [
    "3: Prompt with formatting and specifying content -> specify-content.txt"
   ]
  },
  {
   "cell_type": "code",
   "execution_count": 5,
   "metadata": {},
   "outputs": [
    {
     "name": "stdout",
     "output_type": "stream",
     "text": [
      "System message: You are an AI assistant helping to write emails\n",
      "User message: Write a promotional email for a new wildlife rescue, including the following: - Rescue name is Contoso - It specializes in elephants, as well as zebras and giraffes - Call for donations to be given at our website \\n\\n Include a list of the current animals we have at our rescue after the signature, in the form of a table. These animals include elephants, zebras, gorillas, lizards, and jackrabbits.\n",
      "Completion: \n",
      "\n",
      "Subject: Join Us in Saving Majestic Wildlife at Contoso!\n",
      "\n",
      "Dear [Recipient's Name],\n",
      "\n",
      "We are thrilled to introduce Contoso, a new wildlife rescue dedicated to the protection and rehabilitation of some of the world's most magnificent creatures. Nestled in the heart of nature, Contoso is a sanctuary where elephants, zebras, and giraffes find refuge and care.\n",
      "\n",
      "At Contoso, we believe in a world where wildlife thrives. Our mission is to provide a safe haven for these incredible animals, offering them the love and attention they need to recover and flourish. Our team of dedicated professionals works tirelessly to ensure each animal receives the best care possible.\n",
      "\n",
      "However, we can't do this alone. We need your help to continue our vital work. Your generous donations will directly support the feeding, medical care, and enrichment of our animals. Every contribution, no matter the size, makes a significant impact.\n",
      "\n",
      "Please consider making a donation today by visiting our website at [website URL]. Together, we can make a difference in the lives of these beautiful creatures.\n",
      "\n",
      "Thank you for your support and compassion.\n",
      "\n",
      "Warm regards,\n",
      "\n",
      "[Your Name]  \n",
      "[Your Position]  \n",
      "Contoso Wildlife Rescue  \n",
      "[Contact Information]  \n",
      "\n",
      "---\n",
      "\n",
      "**Current Residents at Contoso Wildlife Rescue**\n",
      "\n",
      "| Animal Type | Number of Residents |\n",
      "|-------------|---------------------|\n",
      "| Elephants   | [Number]            |\n",
      "| Zebras      | [Number]            |\n",
      "| Giraffes    | [Number]            |\n",
      "| Gorillas    | [\n"
     ]
    }
   ],
   "source": [
    "with open(\"data/prompts/specify-content.txt\", \"r\", encoding=\"utf8\") as file:\n",
    "    system_message = file.readline().split(':', 1)[1].strip()\n",
    "    user_message = file.readline().split(':', 1)[1].strip()\n",
    "\n",
    "# Print the messages to the console\n",
    "print(\"System message: \" + system_message)\n",
    "print(\"User message: \" + user_message)\n",
    "\n",
    "# Format and send the request to the model\n",
    "messages =[\n",
    "{\"role\": \"system\", \"content\": system_message},\n",
    "{\"role\": \"user\", \"content\": user_message},\n",
    "]\n",
    "\n",
    "# Call the Azure OpenAI model\n",
    "response = client.chat.completions.create(\n",
    "model=azure_oai_model,\n",
    "messages=messages,\n",
    "temperature=0.2,\n",
    "max_tokens=300\n",
    ")\n",
    "\n",
    "print(\"Completion: \\n\\n\" + response.choices[0].message.content)"
   ]
  },
  {
   "cell_type": "markdown",
   "metadata": {},
   "source": [
    "4: Prompt adjusting system message to be light and use jokes -> specify-tone.txt"
   ]
  },
  {
   "cell_type": "code",
   "execution_count": 6,
   "metadata": {},
   "outputs": [
    {
     "name": "stdout",
     "output_type": "stream",
     "text": [
      "System message: You are an AI assistant that helps write promotional emails to generate interest in a new business. Your tone is light, chit-chat oriented and you always include at least two jokes.\n",
      "User message: Write a promotional email for a new wildlife rescue, including the following: - Rescue name is Contoso - It specializes in elephants, as well as zebras and giraffes - Call for donations to be given at our website \\n\\n Include a list of the current animals we have at our rescue after the signature, in the form of a table. These animals include elephants, zebras, gorillas, lizards, and jackrabbits.\n",
      "Completion: \n",
      "\n",
      "Subject: Get Wild with Contoso: Your New Favorite Wildlife Rescue! 🐘🦓🦒\n",
      "\n",
      "Hello there, Wild Friend!\n",
      "\n",
      "Are you ready to embark on a wild adventure without leaving your couch? Welcome to Contoso, the newest wildlife rescue in town, where we specialize in the majestic trio: elephants, zebras, and giraffes! (And yes, we do have a few other surprise guests who decided to crash the party!)\n",
      "\n",
      "At Contoso, we believe every animal deserves a second chance, a safe haven, and a whole lot of love. Our dedicated team works tirelessly to ensure our animal friends are happy, healthy, and ready to strut their stuff in the wild once more. But here's the thing—we can't do it alone. We need your help to keep the good times rolling and the trunks trumpeting!\n",
      "\n",
      "Why did the elephant bring a suitcase to the rescue? Because it wanted to pack its trunk with love and donations! 🧳🐘\n",
      "\n",
      "By donating to Contoso, you’re not just giving money; you’re giving hope, a future, and a whole lot of peanuts to our beloved elephants. (And trust us, they can never have too many peanuts!) Head over to our website to make a donation and become a part of our wild family. Every little bit helps, and we promise it’ll make you feel like the king of the jungle!\n",
      "\n",
      "Why don’t zebras play cards? Because they’re always spotted cheating! 🃏\n"
     ]
    }
   ],
   "source": [
    "with open(\"data/prompts/specify-tone.txt\", \"r\", encoding=\"utf8\") as file:\n",
    "    system_message = file.readline().split(':', 1)[1].strip()\n",
    "    user_message = file.readline().split(':', 1)[1].strip()\n",
    "\n",
    "# Print the messages to the console\n",
    "print(\"System message: \" + system_message)\n",
    "print(\"User message: \" + user_message)\n",
    "\n",
    "# Format and send the request to the model\n",
    "messages =[\n",
    "{\"role\": \"system\", \"content\": system_message},\n",
    "{\"role\": \"user\", \"content\": user_message},\n",
    "]\n",
    "\n",
    "# Call the Azure OpenAI model\n",
    "response = client.chat.completions.create(\n",
    "model=azure_oai_model,\n",
    "messages=messages,\n",
    "temperature=0.2,\n",
    "max_tokens=300\n",
    ")\n",
    "\n",
    "print(\"Completion: \\n\\n\" + response.choices[0].message.content)"
   ]
  }
 ],
 "metadata": {
  "kernelspec": {
   "display_name": ".venv",
   "language": "python",
   "name": "python3"
  },
  "language_info": {
   "codemirror_mode": {
    "name": "ipython",
    "version": 3
   },
   "file_extension": ".py",
   "mimetype": "text/x-python",
   "name": "python",
   "nbconvert_exporter": "python",
   "pygments_lexer": "ipython3",
   "version": "3.12.7"
  }
 },
 "nbformat": 4,
 "nbformat_minor": 2
}
