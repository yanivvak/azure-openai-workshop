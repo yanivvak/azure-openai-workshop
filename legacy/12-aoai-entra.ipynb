{
 "cells": [
  {
   "cell_type": "markdown",
   "metadata": {},
   "source": []
  },
  {
   "cell_type": "code",
   "execution_count": 4,
   "metadata": {},
   "outputs": [
    {
     "name": "stdout",
     "output_type": "stream",
     "text": [
      "Yes, several Azure AI services support **Customer Managed Keys (CMKs)** to enhance data security and compliance by allowing customers to control the encryption keys used to protect their data. Here are some other Azure AI services that support customer-managed keys:\n",
      "\n",
      "1. **Azure Cognitive Services**:\n",
      "   - Many Azure Cognitive Services, like Text Analytics, Translator, and Language Understanding (LUIS), support customer-managed keys for encrypting data at rest.\n",
      "   - Not all Cognitive Services support CMKs, so it's important to check service-specific documentation to confirm.\n",
      "\n",
      "2. **Azure Machine Learning**:\n",
      "   - Azure Machine Learning supports customer-managed keys for securing sensitive artifacts like datasets, models, experiments, and deployment information stored in the Azure Blob-powered workspace storage account.\n",
      "\n",
      "3. **Azure Form Recognizer**:\n",
      "   - Azure Form Recognizer, which extracts text, key/value pairs, tables, and other data from documents, supports customer-managed keys to help secure your data at rest.\n",
      "\n",
      "4. **Azure Translator**:\n",
      "   - Azure Translator also supports customer-managed keys for enhanced security and compliance.\n",
      "\n",
      "### How CMKs Work in Azure AI Services:\n",
      "- CMKs are managed via **Azure Key Vault** or can integrate with **Azure Key Vault Managed HSM** for more stringent compliance requirements.\n",
      "- Data encryption keys for the Azure service’s storage are encrypted using your customer-managed keys, giving you full control over key lifecycle management (e.g., rotation, revocation).\n",
      "\n",
      "**Note**: The availability and scope of customer-managed keys may vary depending on the Azure region and the specific AI service. Be sure to verify the particular service's documentation to ensure support for CMK in your use case.\n"
     ]
    }
   ],
   "source": [
    "# https://learn.microsoft.com/en-us/azure/ai-services/openai/how-to/managed-identity#prerequisites\n",
    "\n",
    "from azure.identity import DefaultAzureCredential, get_bearer_token_provider\n",
    "from openai import AzureOpenAI\n",
    "import os\n",
    "token_provider = get_bearer_token_provider(\n",
    "    DefaultAzureCredential(), \"https://cognitiveservices.azure.com/.default\"\n",
    ")\n",
    "\n",
    "client = AzureOpenAI(\n",
    "    api_version=\"2024-08-01-preview\",\n",
    "    azure_endpoint=os.getenv(\"AZURE_OPENAI_ENDPOINT\"),\n",
    "    azure_ad_token_provider=token_provider\n",
    ")\n",
    "\n",
    "response = client.chat.completions.create(\n",
    "    model=\"gpt-4o\", # model = \"deployment_name\".\n",
    "    messages=[\n",
    "        {\"role\": \"system\", \"content\": \"You are a helpful assistant.\"},\n",
    "        {\"role\": \"user\", \"content\": \"Does Azure OpenAI support customer managed keys?\"},\n",
    "        {\"role\": \"assistant\", \"content\": \"Yes, customer managed keys are supported by Azure OpenAI.\"},\n",
    "        {\"role\": \"user\", \"content\": \"Do other Azure AI services support this too?\"}\n",
    "    ]\n",
    ")\n",
    "\n",
    "print(response.choices[0].message.content)"
   ]
  }
 ],
 "metadata": {
  "kernelspec": {
   "display_name": "3.12",
   "language": "python",
   "name": "python3"
  },
  "language_info": {
   "codemirror_mode": {
    "name": "ipython",
    "version": 3
   },
   "file_extension": ".py",
   "mimetype": "text/x-python",
   "name": "python",
   "nbconvert_exporter": "python",
   "pygments_lexer": "ipython3",
   "version": "3.12.7"
  }
 },
 "nbformat": 4,
 "nbformat_minor": 2
}
