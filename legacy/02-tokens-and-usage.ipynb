{
 "cells": [
  {
   "attachments": {},
   "cell_type": "markdown",
   "metadata": {},
   "source": [
    "# Tokens"
   ]
  },
  {
   "cell_type": "markdown",
   "metadata": {},
   "source": [
    "In the context of LLMs, tokens are the pieces of text that language models read and analyze. They can be as small as a single character or as long as a word, and in some sophisticated models, tokens can even represent entire phrases,\n",
    "Tokens are used to encode and decode input and output texts, and can vary in size and dimension\n",
    "\n",
    "If you would like to learn how to build your own tokenizer, you can watch this video\n",
    "https://www.youtube.com/watch?v=zduSFxRajkE"
   ]
  },
  {
   "cell_type": "code",
   "execution_count": 13,
   "metadata": {},
   "outputs": [
    {
     "name": "stdout",
     "output_type": "stream",
     "text": [
      "Total number of tokens: 29\n",
      "Tokens : [79207, 5377, 15836, 5475, 5825, 26487, 5446, 2680, 311, 5377, 15836, 596, 8147, 4221, 4211, 2737, 279, 480, 2898, 12, 19, 11, 480, 2898, 12, 19, 48275, 449, 31541]\n",
      "Words :  ['Azure', ' Open', 'AI', ' Service', ' provides', ' REST', ' API', ' access', ' to', ' Open', 'AI', \"'s\", ' powerful', ' language', ' models', ' including', ' the', ' G', 'PT', '-', '4', ',', ' G', 'PT', '-', '4', ' Turbo', ' with', ' Vision']\n"
     ]
    }
   ],
   "source": [
    "import os\n",
    "from openai import AzureOpenAI\n",
    "import tiktoken\n",
    "from dotenv import load_dotenv\n",
    "load_dotenv()\n",
    "\n",
    "client = AzureOpenAI(\n",
    "  azure_endpoint = os.getenv(\"AZURE_OPENAI_ENDPOINT\"), \n",
    "  api_key=os.getenv(\"AZURE_OPENAI_KEY\"),  \n",
    "  api_version=os.getenv(\"API_VERSION\")\n",
    ")\n",
    "\n",
    "CHAT_COMPLETIONS_MODEL = os.getenv('AZURE_OPENAI_MODEL')\n",
    "\n",
    "encoding=tiktoken.encoding_for_model(\"gpt-4\")\n",
    "prompt = \"Azure OpenAI Service provides REST API access to OpenAI's powerful language models including the GPT-4, GPT-4 Turbo with Vision\"\n",
    "tokens = encoding.encode(prompt)\n",
    "print('Total number of tokens:', len(tokens))\n",
    "print('Tokens :', tokens)\n",
    "print('Words : ', [encoding.decode([t]) for t in tokens])"
   ]
  },
  {
   "cell_type": "code",
   "execution_count": 14,
   "metadata": {},
   "outputs": [],
   "source": [
    "response = client.chat.completions.create(\n",
    "  model=CHAT_COMPLETIONS_MODEL,\n",
    "  messages = [{\"role\":\"system\", \"content\":\"You are a helpful assistant.\"},\n",
    "               {\"role\":\"user\",\"content\": prompt}],\n",
    "    max_tokens=100,\n",
    "    n=2,\n",
    ")"
   ]
  },
  {
   "attachments": {},
   "cell_type": "markdown",
   "metadata": {},
   "source": [
    "# Show 2 returned results"
   ]
  },
  {
   "cell_type": "code",
   "execution_count": 15,
   "metadata": {},
   "outputs": [
    {
     "name": "stdout",
     "output_type": "stream",
     "text": [
      "============================== ANSWER #1 ==============================\n",
      "Azure OpenAI Service indeed provides REST API access to OpenAI's advanced language models, including GPT-4. As of the latest updates, it offers several models for different tasks, including:\n",
      "\n",
      "1. **GPT-4**: Known for its high capacity to perform complex tasks and generate detailed and contextually accurate text.\n",
      "\n",
      "2. **GPT-4 Turbo**: A variant of GPT-4, optimized for faster performance and potentially more cost-effective usage, while maintaining similar capabilities in text generation.\n",
      "\n",
      "3\n",
      "============================== ANSWER #2 ==============================\n",
      "Azure OpenAI Service indeed provides REST API access to OpenAI’s powerful language models, including GPT-4 and its variants. This service allows you to integrate these advanced language models into your applications via Azure, enabling you to perform a variety of tasks like natural language understanding, text generation, and more.\n",
      "\n",
      "### Key Features:\n",
      "- **GPT-4 and Variants**: Access to different versions of GPT-4, which might include more specialized models such as GPT-4 Turbo.\n",
      "- **Comprehensive\n"
     ]
    }
   ],
   "source": [
    "print('='*30, 'ANSWER #1', '='*30)\n",
    "print(response.choices[0].message.content)\n",
    "print('='*30, 'ANSWER #2', '='*30)\n",
    "print(response.choices[1].message.content)\n"
   ]
  },
  {
   "attachments": {},
   "cell_type": "markdown",
   "metadata": {},
   "source": [
    "# Usage"
   ]
  },
  {
   "cell_type": "code",
   "execution_count": 16,
   "metadata": {},
   "outputs": [
    {
     "data": {
      "text/plain": [
       "CompletionUsage(completion_tokens=200, prompt_tokens=44, total_tokens=244)"
      ]
     },
     "execution_count": 16,
     "metadata": {},
     "output_type": "execute_result"
    }
   ],
   "source": [
    "response.usage"
   ]
  }
 ],
 "metadata": {
  "kernelspec": {
   "display_name": "3.12",
   "language": "python",
   "name": "python3"
  },
  "language_info": {
   "codemirror_mode": {
    "name": "ipython",
    "version": 3
   },
   "file_extension": ".py",
   "mimetype": "text/x-python",
   "name": "python",
   "nbconvert_exporter": "python",
   "pygments_lexer": "ipython3",
   "version": "3.12.7"
  },
  "orig_nbformat": 4
 },
 "nbformat": 4,
 "nbformat_minor": 2
}
