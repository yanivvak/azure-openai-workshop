{
 "cells": [
  {
   "cell_type": "markdown",
   "metadata": {},
   "source": [
    "# Azure OpenAI Assistants\n",
    "\n",
    "Azure OpenAI Assistants allows you to create AI assistants tailored to your needs through custom instructions and augmented by advanced tools like code interpreter, and custom functions. In this article we'll provide an in-depth walkthrough of getting started with the Assistants API."
   ]
  },
  {
   "cell_type": "code",
   "execution_count": 13,
   "metadata": {},
   "outputs": [],
   "source": [
    "import os\n",
    "import json\n",
    "from openai import AzureOpenAI\n",
    "from dotenv import load_dotenv\n",
    "\n",
    "load_dotenv()\n",
    "\n",
    "client = AzureOpenAI(\n",
    "    api_key=os.getenv(\"AZURE_OPENAI_KEY\"),  \n",
    "    api_version=\"2024-05-01-preview\",\n",
    "    azure_endpoint = os.getenv(\"AZURE_OPENAI_ENDPOINT\")\n",
    "    )\n",
    "\n",
    "# Create an assistant\n",
    "assistant = client.beta.assistants.create(\n",
    "    name=\"Data Visualization\",\n",
    "    instructions=f\"You are a helpful AI assistant who makes interesting visualizations based on data.\" \n",
    "    f\"You have access to a sandboxed environment for writing and testing code.\"\n",
    "    f\"When you are asked to create a visualization you should follow these steps:\"\n",
    "    f\"1. Write the code.\"\n",
    "    f\"2. Anytime you write new code display a preview of the code to show your work.\"\n",
    "    f\"3. Run the code to confirm that it runs.\"\n",
    "    f\"4. If the code is successful display the visualization.\"\n",
    "    f\"5. If the code is unsuccessful display the error message and try to revise the code and rerun going through the steps from above again.\",\n",
    "    tools=[{\"type\": \"code_interpreter\"}],\n",
    "    model=\"gpt-4o-mini\" # Not all models are supported for Assitants, you can check the list here /concepts/models?tabs=python-secure%2Cglobal-standard%2Cstandard-chat-completions#assistants-preview\n",
    ")"
   ]
  },
  {
   "cell_type": "code",
   "execution_count": 14,
   "metadata": {},
   "outputs": [
    {
     "name": "stdout",
     "output_type": "stream",
     "text": [
      "{\n",
      "  \"id\": \"asst_q5teE79T7j2hGCc4EFkF9IzO\",\n",
      "  \"created_at\": 1734535859,\n",
      "  \"description\": null,\n",
      "  \"instructions\": \"You are a helpful AI assistant who makes interesting visualizations based on data.You have access to a sandboxed environment for writing and testing code.When you are asked to create a visualization you should follow these steps:1. Write the code.2. Anytime you write new code display a preview of the code to show your work.3. Run the code to confirm that it runs.4. If the code is successful display the visualization.5. If the code is unsuccessful display the error message and try to revise the code and rerun going through the steps from above again.\",\n",
      "  \"metadata\": {},\n",
      "  \"model\": \"gpt-4o-mini\",\n",
      "  \"name\": \"Data Visualization\",\n",
      "  \"object\": \"assistant\",\n",
      "  \"tools\": [\n",
      "    {\n",
      "      \"type\": \"code_interpreter\"\n",
      "    }\n",
      "  ],\n",
      "  \"response_format\": \"auto\",\n",
      "  \"temperature\": 1.0,\n",
      "  \"tool_resources\": {\n",
      "    \"code_interpreter\": {\n",
      "      \"file_ids\": []\n",
      "    },\n",
      "    \"file_search\": null\n",
      "  },\n",
      "  \"top_p\": 1.0\n",
      "}\n"
     ]
    }
   ],
   "source": [
    "print(assistant.model_dump_json(indent=2))"
   ]
  },
  {
   "cell_type": "code",
   "execution_count": 15,
   "metadata": {},
   "outputs": [
    {
     "name": "stdout",
     "output_type": "stream",
     "text": [
      "Thread(id='thread_QILvMeP2NWlLDeF07zB67rks', created_at=1734535860, metadata={}, object='thread', tool_resources=ToolResources(code_interpreter=None, file_search=None))\n"
     ]
    }
   ],
   "source": [
    "# Create a thread\n",
    "thread = client.beta.threads.create()\n",
    "print(thread)"
   ]
  },
  {
   "cell_type": "code",
   "execution_count": 16,
   "metadata": {},
   "outputs": [],
   "source": [
    "# Add a user question to the thread\n",
    "message = client.beta.threads.messages.create(\n",
    "    thread_id=thread.id,\n",
    "    role=\"user\",\n",
    "    content=\"Create a visualization of a sinewave\"\n",
    ")"
   ]
  },
  {
   "cell_type": "code",
   "execution_count": 17,
   "metadata": {},
   "outputs": [
    {
     "name": "stdout",
     "output_type": "stream",
     "text": [
      "{\n",
      "  \"data\": [\n",
      "    {\n",
      "      \"id\": \"msg_y1dOe40xAfxyPPe54ZsdTUpV\",\n",
      "      \"assistant_id\": null,\n",
      "      \"attachments\": [],\n",
      "      \"completed_at\": null,\n",
      "      \"content\": [\n",
      "        {\n",
      "          \"text\": {\n",
      "            \"annotations\": [],\n",
      "            \"value\": \"Create a visualization of a sinewave\"\n",
      "          },\n",
      "          \"type\": \"text\"\n",
      "        }\n",
      "      ],\n",
      "      \"created_at\": 1734535861,\n",
      "      \"incomplete_at\": null,\n",
      "      \"incomplete_details\": null,\n",
      "      \"metadata\": {},\n",
      "      \"object\": \"thread.message\",\n",
      "      \"role\": \"user\",\n",
      "      \"run_id\": null,\n",
      "      \"status\": null,\n",
      "      \"thread_id\": \"thread_QILvMeP2NWlLDeF07zB67rks\"\n",
      "    }\n",
      "  ],\n",
      "  \"object\": \"list\",\n",
      "  \"first_id\": \"msg_y1dOe40xAfxyPPe54ZsdTUpV\",\n",
      "  \"last_id\": \"msg_y1dOe40xAfxyPPe54ZsdTUpV\",\n",
      "  \"has_more\": false\n",
      "}\n"
     ]
    }
   ],
   "source": [
    "thread_messages = client.beta.threads.messages.list(thread.id)\n",
    "print(thread_messages.model_dump_json(indent=2))"
   ]
  },
  {
   "cell_type": "markdown",
   "metadata": {},
   "source": [
    "We could also pass an instructions parameter here, but this would override the existing instructions that we have already provided for the assistant."
   ]
  },
  {
   "cell_type": "code",
   "execution_count": 18,
   "metadata": {},
   "outputs": [],
   "source": [
    "run = client.beta.threads.runs.create(\n",
    "  thread_id=thread.id,\n",
    "  assistant_id=assistant.id,\n",
    "  #instructions=\"New instructions\" #You can optionally provide new instructions but these will override the default instructions\n",
    ")"
   ]
  },
  {
   "cell_type": "code",
   "execution_count": 19,
   "metadata": {},
   "outputs": [
    {
     "name": "stdout",
     "output_type": "stream",
     "text": [
      "completed\n"
     ]
    }
   ],
   "source": [
    "# Retrieve the status of the run\n",
    "run = client.beta.threads.runs.retrieve(\n",
    "  thread_id=thread.id,\n",
    "  run_id=run.id\n",
    ")\n",
    "\n",
    "status = run.status\n",
    "print(status)"
   ]
  },
  {
   "cell_type": "code",
   "execution_count": 20,
   "metadata": {},
   "outputs": [
    {
     "name": "stdout",
     "output_type": "stream",
     "text": [
      "{\n",
      "  \"data\": [\n",
      "    {\n",
      "      \"id\": \"msg_7rtShxsTg6w8ajRaxS8wFK0S\",\n",
      "      \"assistant_id\": \"asst_q5teE79T7j2hGCc4EFkF9IzO\",\n",
      "      \"attachments\": [],\n",
      "      \"completed_at\": null,\n",
      "      \"content\": [\n",
      "        {\n",
      "          \"image_file\": {\n",
      "            \"file_id\": \"assistant-OqkRNoQaBGOfA98x3ccKHXAB\",\n",
      "            \"detail\": null\n",
      "          },\n",
      "          \"type\": \"image_file\"\n",
      "        },\n",
      "        {\n",
      "          \"text\": {\n",
      "            \"annotations\": [],\n",
      "            \"value\": \"Here is the visualization of a sine wave. The graph shows the sine function plotted against values from \\\\(0\\\\) to \\\\(2\\\\pi\\\\) radians. If you have any other requests or need further modifications, feel free to ask!\"\n",
      "          },\n",
      "          \"type\": \"text\"\n",
      "        }\n",
      "      ],\n",
      "      \"created_at\": 1734535869,\n",
      "      \"incomplete_at\": null,\n",
      "      \"incomplete_details\": null,\n",
      "      \"metadata\": {},\n",
      "      \"object\": \"thread.message\",\n",
      "      \"role\": \"assistant\",\n",
      "      \"run_id\": \"run_Kfhaj3U19cH6aaZG7WMEq79I\",\n",
      "      \"status\": null,\n",
      "      \"thread_id\": \"thread_QILvMeP2NWlLDeF07zB67rks\"\n",
      "    },\n",
      "    {\n",
      "      \"id\": \"msg_y1dOe40xAfxyPPe54ZsdTUpV\",\n",
      "      \"assistant_id\": null,\n",
      "      \"attachments\": [],\n",
      "      \"completed_at\": null,\n",
      "      \"content\": [\n",
      "        {\n",
      "          \"text\": {\n",
      "            \"annotations\": [],\n",
      "            \"value\": \"Create a visualization of a sinewave\"\n",
      "          },\n",
      "          \"type\": \"text\"\n",
      "        }\n",
      "      ],\n",
      "      \"created_at\": 1734535861,\n",
      "      \"incomplete_at\": null,\n",
      "      \"incomplete_details\": null,\n",
      "      \"metadata\": {},\n",
      "      \"object\": \"thread.message\",\n",
      "      \"role\": \"user\",\n",
      "      \"run_id\": null,\n",
      "      \"status\": null,\n",
      "      \"thread_id\": \"thread_QILvMeP2NWlLDeF07zB67rks\"\n",
      "    }\n",
      "  ],\n",
      "  \"object\": \"list\",\n",
      "  \"first_id\": \"msg_7rtShxsTg6w8ajRaxS8wFK0S\",\n",
      "  \"last_id\": \"msg_y1dOe40xAfxyPPe54ZsdTUpV\",\n",
      "  \"has_more\": false\n",
      "}\n"
     ]
    }
   ],
   "source": [
    "messages = client.beta.threads.messages.list(\n",
    "  thread_id=thread.id\n",
    ")\n",
    "\n",
    "print(messages.model_dump_json(indent=2))"
   ]
  },
  {
   "cell_type": "code",
   "execution_count": 21,
   "metadata": {},
   "outputs": [
    {
     "name": "stdout",
     "output_type": "stream",
     "text": [
      "{'data': [{'id': 'msg_7rtShxsTg6w8ajRaxS8wFK0S', 'assistant_id': 'asst_q5teE79T7j2hGCc4EFkF9IzO', 'attachments': [], 'completed_at': None, 'content': [{'image_file': {'file_id': 'assistant-OqkRNoQaBGOfA98x3ccKHXAB', 'detail': None}, 'type': 'image_file'}, {'text': {'annotations': [], 'value': 'Here is the visualization of a sine wave. The graph shows the sine function plotted against values from \\\\(0\\\\) to \\\\(2\\\\pi\\\\) radians. If you have any other requests or need further modifications, feel free to ask!'}, 'type': 'text'}], 'created_at': 1734535869, 'incomplete_at': None, 'incomplete_details': None, 'metadata': {}, 'object': 'thread.message', 'role': 'assistant', 'run_id': 'run_Kfhaj3U19cH6aaZG7WMEq79I', 'status': None, 'thread_id': 'thread_QILvMeP2NWlLDeF07zB67rks'}, {'id': 'msg_y1dOe40xAfxyPPe54ZsdTUpV', 'assistant_id': None, 'attachments': [], 'completed_at': None, 'content': [{'text': {'annotations': [], 'value': 'Create a visualization of a sinewave'}, 'type': 'text'}], 'created_at': 1734535861, 'incomplete_at': None, 'incomplete_details': None, 'metadata': {}, 'object': 'thread.message', 'role': 'user', 'run_id': None, 'status': None, 'thread_id': 'thread_QILvMeP2NWlLDeF07zB67rks'}], 'object': 'list', 'first_id': 'msg_7rtShxsTg6w8ajRaxS8wFK0S', 'last_id': 'msg_y1dOe40xAfxyPPe54ZsdTUpV', 'has_more': False}\n"
     ]
    }
   ],
   "source": [
    "data = json.loads(messages.model_dump_json(indent=2))  # Load JSON data into a Python object\n",
    "image_file_id = data['data'][0]['content'][0]['image_file']['file_id']\n",
    "\n",
    "print(data)  "
   ]
  },
  {
   "cell_type": "code",
   "execution_count": 22,
   "metadata": {},
   "outputs": [],
   "source": [
    "content = client.files.content(image_file_id)\n",
    "\n",
    "image= content.write_to_file(\"sinewave.png\")"
   ]
  },
  {
   "cell_type": "code",
   "execution_count": 23,
   "metadata": {},
   "outputs": [],
   "source": [
    "from PIL import Image\n",
    "\n",
    "# Display the image in the default image viewer\n",
    "image = Image.open(\"sinewave.png\")\n",
    "image.show()"
   ]
  },
  {
   "cell_type": "code",
   "execution_count": 24,
   "metadata": {},
   "outputs": [],
   "source": [
    "# Add a new user question to the thread\n",
    "message = client.beta.threads.messages.create(\n",
    "    thread_id=thread.id,\n",
    "    role=\"user\",\n",
    "    content=\"Show me the code you used to generate the sinewave\"\n",
    ")"
   ]
  },
  {
   "cell_type": "code",
   "execution_count": 25,
   "metadata": {},
   "outputs": [],
   "source": [
    "run = client.beta.threads.runs.create(\n",
    "  thread_id=thread.id,\n",
    "  assistant_id=assistant.id,\n",
    "  #instructions=\"New instructions\" #You can optionally provide new instructions  but these will override the default instructions\n",
    ")\n"
   ]
  },
  {
   "cell_type": "code",
   "execution_count": 26,
   "metadata": {},
   "outputs": [
    {
     "name": "stdout",
     "output_type": "stream",
     "text": [
      "completed\n"
     ]
    }
   ],
   "source": [
    "# Retrieve the status of the run\n",
    "run = client.beta.threads.runs.retrieve(\n",
    "  thread_id=thread.id,\n",
    "  run_id=run.id\n",
    ")\n",
    "status = run.status\n",
    "print(status)"
   ]
  },
  {
   "cell_type": "markdown",
   "metadata": {},
   "source": [
    "* Please wait until you get \"completed\""
   ]
  },
  {
   "cell_type": "code",
   "execution_count": 27,
   "metadata": {},
   "outputs": [
    {
     "name": "stdout",
     "output_type": "stream",
     "text": [
      "{\n",
      "  \"data\": [\n",
      "    {\n",
      "      \"id\": \"msg_D0u0LEhj1QfBuO9WDjwzMx2k\",\n",
      "      \"assistant_id\": \"asst_q5teE79T7j2hGCc4EFkF9IzO\",\n",
      "      \"attachments\": [],\n",
      "      \"completed_at\": null,\n",
      "      \"content\": [\n",
      "        {\n",
      "          \"text\": {\n",
      "            \"annotations\": [],\n",
      "            \"value\": \"Here is the code I used to generate the sine wave visualization:\\n\\n```python\\nimport numpy as np\\nimport matplotlib.pyplot as plt\\n\\n# Generate data for the sine wave\\nx = np.linspace(0, 2 * np.pi, 100)\\ny = np.sin(x)\\n\\n# Create the plot\\nplt.figure(figsize=(10, 5))\\nplt.plot(x, y, label='Sine Wave', color='b')\\nplt.title('Sine Wave Visualization')\\nplt.xlabel('X values (radians)')\\nplt.ylabel('Sine of X')\\nplt.axhline(0, color='black', lw=0.5, ls='--')\\nplt.axvline(0, color='black', lw=0.5, ls='--')\\nplt.grid()\\nplt.legend()\\nplt.show()\\n```\\n\\nLet me know if you need any modifications or additional visualizations!\"\n",
      "          },\n",
      "          \"type\": \"text\"\n",
      "        }\n",
      "      ],\n",
      "      \"created_at\": 1734535965,\n",
      "      \"incomplete_at\": null,\n",
      "      \"incomplete_details\": null,\n",
      "      \"metadata\": {},\n",
      "      \"object\": \"thread.message\",\n",
      "      \"role\": \"assistant\",\n",
      "      \"run_id\": \"run_lPcXPjrcxlcshomskRGYU9GZ\",\n",
      "      \"status\": null,\n",
      "      \"thread_id\": \"thread_QILvMeP2NWlLDeF07zB67rks\"\n",
      "    },\n",
      "    {\n",
      "      \"id\": \"msg_qBNxLd6OgTiqwSnklMAyoySP\",\n",
      "      \"assistant_id\": null,\n",
      "      \"attachments\": [],\n",
      "      \"completed_at\": null,\n",
      "      \"content\": [\n",
      "        {\n",
      "          \"text\": {\n",
      "            \"annotations\": [],\n",
      "            \"value\": \"Show me the code you used to generate the sinewave\"\n",
      "          },\n",
      "          \"type\": \"text\"\n",
      "        }\n",
      "      ],\n",
      "      \"created_at\": 1734535959,\n",
      "      \"incomplete_at\": null,\n",
      "      \"incomplete_details\": null,\n",
      "      \"metadata\": {},\n",
      "      \"object\": \"thread.message\",\n",
      "      \"role\": \"user\",\n",
      "      \"run_id\": null,\n",
      "      \"status\": null,\n",
      "      \"thread_id\": \"thread_QILvMeP2NWlLDeF07zB67rks\"\n",
      "    },\n",
      "    {\n",
      "      \"id\": \"msg_7rtShxsTg6w8ajRaxS8wFK0S\",\n",
      "      \"assistant_id\": \"asst_q5teE79T7j2hGCc4EFkF9IzO\",\n",
      "      \"attachments\": [],\n",
      "      \"completed_at\": null,\n",
      "      \"content\": [\n",
      "        {\n",
      "          \"image_file\": {\n",
      "            \"file_id\": \"assistant-OqkRNoQaBGOfA98x3ccKHXAB\",\n",
      "            \"detail\": null\n",
      "          },\n",
      "          \"type\": \"image_file\"\n",
      "        },\n",
      "        {\n",
      "          \"text\": {\n",
      "            \"annotations\": [],\n",
      "            \"value\": \"Here is the visualization of a sine wave. The graph shows the sine function plotted against values from \\\\(0\\\\) to \\\\(2\\\\pi\\\\) radians. If you have any other requests or need further modifications, feel free to ask!\"\n",
      "          },\n",
      "          \"type\": \"text\"\n",
      "        }\n",
      "      ],\n",
      "      \"created_at\": 1734535869,\n",
      "      \"incomplete_at\": null,\n",
      "      \"incomplete_details\": null,\n",
      "      \"metadata\": {},\n",
      "      \"object\": \"thread.message\",\n",
      "      \"role\": \"assistant\",\n",
      "      \"run_id\": \"run_Kfhaj3U19cH6aaZG7WMEq79I\",\n",
      "      \"status\": null,\n",
      "      \"thread_id\": \"thread_QILvMeP2NWlLDeF07zB67rks\"\n",
      "    },\n",
      "    {\n",
      "      \"id\": \"msg_y1dOe40xAfxyPPe54ZsdTUpV\",\n",
      "      \"assistant_id\": null,\n",
      "      \"attachments\": [],\n",
      "      \"completed_at\": null,\n",
      "      \"content\": [\n",
      "        {\n",
      "          \"text\": {\n",
      "            \"annotations\": [],\n",
      "            \"value\": \"Create a visualization of a sinewave\"\n",
      "          },\n",
      "          \"type\": \"text\"\n",
      "        }\n",
      "      ],\n",
      "      \"created_at\": 1734535861,\n",
      "      \"incomplete_at\": null,\n",
      "      \"incomplete_details\": null,\n",
      "      \"metadata\": {},\n",
      "      \"object\": \"thread.message\",\n",
      "      \"role\": \"user\",\n",
      "      \"run_id\": null,\n",
      "      \"status\": null,\n",
      "      \"thread_id\": \"thread_QILvMeP2NWlLDeF07zB67rks\"\n",
      "    }\n",
      "  ],\n",
      "  \"object\": \"list\",\n",
      "  \"first_id\": \"msg_D0u0LEhj1QfBuO9WDjwzMx2k\",\n",
      "  \"last_id\": \"msg_y1dOe40xAfxyPPe54ZsdTUpV\",\n",
      "  \"has_more\": false\n",
      "}\n"
     ]
    }
   ],
   "source": [
    "messages = client.beta.threads.messages.list(\n",
    "  thread_id=thread.id\n",
    ")\n",
    "\n",
    "print(messages.model_dump_json(indent=2))"
   ]
  },
  {
   "cell_type": "code",
   "execution_count": 28,
   "metadata": {},
   "outputs": [
    {
     "name": "stdout",
     "output_type": "stream",
     "text": [
      "Here is the code I used to generate the sine wave visualization:\n",
      "\n",
      "```python\n",
      "import numpy as np\n",
      "import matplotlib.pyplot as plt\n",
      "\n",
      "# Generate data for the sine wave\n",
      "x = np.linspace(0, 2 * np.pi, 100)\n",
      "y = np.sin(x)\n",
      "\n",
      "# Create the plot\n",
      "plt.figure(figsize=(10, 5))\n",
      "plt.plot(x, y, label='Sine Wave', color='b')\n",
      "plt.title('Sine Wave Visualization')\n",
      "plt.xlabel('X values (radians)')\n",
      "plt.ylabel('Sine of X')\n",
      "plt.axhline(0, color='black', lw=0.5, ls='--')\n",
      "plt.axvline(0, color='black', lw=0.5, ls='--')\n",
      "plt.grid()\n",
      "plt.legend()\n",
      "plt.show()\n",
      "```\n",
      "\n",
      "Let me know if you need any modifications or additional visualizations!\n"
     ]
    }
   ],
   "source": [
    "data = json.loads(messages.model_dump_json(indent=2))\n",
    "code = data['data'][0]['content'][0]['text']['value']\n",
    "print(code)"
   ]
  },
  {
   "cell_type": "code",
   "execution_count": 29,
   "metadata": {},
   "outputs": [],
   "source": [
    "# Add a user question to the thread\n",
    "message = client.beta.threads.messages.create(\n",
    "    thread_id=thread.id,\n",
    "    role=\"user\",\n",
    "    content=\"I prefer visualizations in darkmode can you change the colors to make a darkmode version of this visualization.\"\n",
    ")\n",
    "\n",
    "# Run the thread\n",
    "run = client.beta.threads.runs.create(\n",
    "  thread_id=thread.id,\n",
    "  assistant_id=assistant.id,\n",
    ")"
   ]
  },
  {
   "cell_type": "code",
   "execution_count": 31,
   "metadata": {},
   "outputs": [
    {
     "name": "stdout",
     "output_type": "stream",
     "text": [
      "completed\n"
     ]
    }
   ],
   "source": [
    "# Retrieve the status of the run\n",
    "run = client.beta.threads.runs.retrieve(\n",
    "  thread_id=thread.id,\n",
    "  run_id=run.id\n",
    ")\n",
    "\n",
    "status = run.status\n",
    "print(status)"
   ]
  },
  {
   "cell_type": "markdown",
   "metadata": {},
   "source": [
    "* Please wait until you get \"completed\""
   ]
  },
  {
   "cell_type": "code",
   "execution_count": 32,
   "metadata": {},
   "outputs": [
    {
     "name": "stdout",
     "output_type": "stream",
     "text": [
      "{\n",
      "  \"data\": [\n",
      "    {\n",
      "      \"id\": \"msg_n5crl3tXkSidhIcwSUwDzCWt\",\n",
      "      \"assistant_id\": \"asst_q5teE79T7j2hGCc4EFkF9IzO\",\n",
      "      \"attachments\": [],\n",
      "      \"completed_at\": null,\n",
      "      \"content\": [\n",
      "        {\n",
      "          \"image_file\": {\n",
      "            \"file_id\": \"assistant-QsABw8YRRI9fWZY4gXWPSq1S\",\n",
      "            \"detail\": null\n",
      "          },\n",
      "          \"type\": \"image_file\"\n",
      "        },\n",
      "        {\n",
      "          \"text\": {\n",
      "            \"annotations\": [],\n",
      "            \"value\": \"Here is the dark mode version of the sine wave visualization. The colors have been adjusted to enhance visibility against a dark background. If you have any further requests or adjustments, let me know!\"\n",
      "          },\n",
      "          \"type\": \"text\"\n",
      "        }\n",
      "      ],\n",
      "      \"created_at\": 1734535995,\n",
      "      \"incomplete_at\": null,\n",
      "      \"incomplete_details\": null,\n",
      "      \"metadata\": {},\n",
      "      \"object\": \"thread.message\",\n",
      "      \"role\": \"assistant\",\n",
      "      \"run_id\": \"run_y59vKitO7l9Bg18uPLrO3nxe\",\n",
      "      \"status\": null,\n",
      "      \"thread_id\": \"thread_QILvMeP2NWlLDeF07zB67rks\"\n",
      "    },\n",
      "    {\n",
      "      \"id\": \"msg_1lz3mvRpid3ne8a8AEOvA0PR\",\n",
      "      \"assistant_id\": null,\n",
      "      \"attachments\": [],\n",
      "      \"completed_at\": null,\n",
      "      \"content\": [\n",
      "        {\n",
      "          \"text\": {\n",
      "            \"annotations\": [],\n",
      "            \"value\": \"I prefer visualizations in darkmode can you change the colors to make a darkmode version of this visualization.\"\n",
      "          },\n",
      "          \"type\": \"text\"\n",
      "        }\n",
      "      ],\n",
      "      \"created_at\": 1734535990,\n",
      "      \"incomplete_at\": null,\n",
      "      \"incomplete_details\": null,\n",
      "      \"metadata\": {},\n",
      "      \"object\": \"thread.message\",\n",
      "      \"role\": \"user\",\n",
      "      \"run_id\": null,\n",
      "      \"status\": null,\n",
      "      \"thread_id\": \"thread_QILvMeP2NWlLDeF07zB67rks\"\n",
      "    },\n",
      "    {\n",
      "      \"id\": \"msg_D0u0LEhj1QfBuO9WDjwzMx2k\",\n",
      "      \"assistant_id\": \"asst_q5teE79T7j2hGCc4EFkF9IzO\",\n",
      "      \"attachments\": [],\n",
      "      \"completed_at\": null,\n",
      "      \"content\": [\n",
      "        {\n",
      "          \"text\": {\n",
      "            \"annotations\": [],\n",
      "            \"value\": \"Here is the code I used to generate the sine wave visualization:\\n\\n```python\\nimport numpy as np\\nimport matplotlib.pyplot as plt\\n\\n# Generate data for the sine wave\\nx = np.linspace(0, 2 * np.pi, 100)\\ny = np.sin(x)\\n\\n# Create the plot\\nplt.figure(figsize=(10, 5))\\nplt.plot(x, y, label='Sine Wave', color='b')\\nplt.title('Sine Wave Visualization')\\nplt.xlabel('X values (radians)')\\nplt.ylabel('Sine of X')\\nplt.axhline(0, color='black', lw=0.5, ls='--')\\nplt.axvline(0, color='black', lw=0.5, ls='--')\\nplt.grid()\\nplt.legend()\\nplt.show()\\n```\\n\\nLet me know if you need any modifications or additional visualizations!\"\n",
      "          },\n",
      "          \"type\": \"text\"\n",
      "        }\n",
      "      ],\n",
      "      \"created_at\": 1734535965,\n",
      "      \"incomplete_at\": null,\n",
      "      \"incomplete_details\": null,\n",
      "      \"metadata\": {},\n",
      "      \"object\": \"thread.message\",\n",
      "      \"role\": \"assistant\",\n",
      "      \"run_id\": \"run_lPcXPjrcxlcshomskRGYU9GZ\",\n",
      "      \"status\": null,\n",
      "      \"thread_id\": \"thread_QILvMeP2NWlLDeF07zB67rks\"\n",
      "    },\n",
      "    {\n",
      "      \"id\": \"msg_qBNxLd6OgTiqwSnklMAyoySP\",\n",
      "      \"assistant_id\": null,\n",
      "      \"attachments\": [],\n",
      "      \"completed_at\": null,\n",
      "      \"content\": [\n",
      "        {\n",
      "          \"text\": {\n",
      "            \"annotations\": [],\n",
      "            \"value\": \"Show me the code you used to generate the sinewave\"\n",
      "          },\n",
      "          \"type\": \"text\"\n",
      "        }\n",
      "      ],\n",
      "      \"created_at\": 1734535959,\n",
      "      \"incomplete_at\": null,\n",
      "      \"incomplete_details\": null,\n",
      "      \"metadata\": {},\n",
      "      \"object\": \"thread.message\",\n",
      "      \"role\": \"user\",\n",
      "      \"run_id\": null,\n",
      "      \"status\": null,\n",
      "      \"thread_id\": \"thread_QILvMeP2NWlLDeF07zB67rks\"\n",
      "    },\n",
      "    {\n",
      "      \"id\": \"msg_7rtShxsTg6w8ajRaxS8wFK0S\",\n",
      "      \"assistant_id\": \"asst_q5teE79T7j2hGCc4EFkF9IzO\",\n",
      "      \"attachments\": [],\n",
      "      \"completed_at\": null,\n",
      "      \"content\": [\n",
      "        {\n",
      "          \"image_file\": {\n",
      "            \"file_id\": \"assistant-OqkRNoQaBGOfA98x3ccKHXAB\",\n",
      "            \"detail\": null\n",
      "          },\n",
      "          \"type\": \"image_file\"\n",
      "        },\n",
      "        {\n",
      "          \"text\": {\n",
      "            \"annotations\": [],\n",
      "            \"value\": \"Here is the visualization of a sine wave. The graph shows the sine function plotted against values from \\\\(0\\\\) to \\\\(2\\\\pi\\\\) radians. If you have any other requests or need further modifications, feel free to ask!\"\n",
      "          },\n",
      "          \"type\": \"text\"\n",
      "        }\n",
      "      ],\n",
      "      \"created_at\": 1734535869,\n",
      "      \"incomplete_at\": null,\n",
      "      \"incomplete_details\": null,\n",
      "      \"metadata\": {},\n",
      "      \"object\": \"thread.message\",\n",
      "      \"role\": \"assistant\",\n",
      "      \"run_id\": \"run_Kfhaj3U19cH6aaZG7WMEq79I\",\n",
      "      \"status\": null,\n",
      "      \"thread_id\": \"thread_QILvMeP2NWlLDeF07zB67rks\"\n",
      "    },\n",
      "    {\n",
      "      \"id\": \"msg_y1dOe40xAfxyPPe54ZsdTUpV\",\n",
      "      \"assistant_id\": null,\n",
      "      \"attachments\": [],\n",
      "      \"completed_at\": null,\n",
      "      \"content\": [\n",
      "        {\n",
      "          \"text\": {\n",
      "            \"annotations\": [],\n",
      "            \"value\": \"Create a visualization of a sinewave\"\n",
      "          },\n",
      "          \"type\": \"text\"\n",
      "        }\n",
      "      ],\n",
      "      \"created_at\": 1734535861,\n",
      "      \"incomplete_at\": null,\n",
      "      \"incomplete_details\": null,\n",
      "      \"metadata\": {},\n",
      "      \"object\": \"thread.message\",\n",
      "      \"role\": \"user\",\n",
      "      \"run_id\": null,\n",
      "      \"status\": null,\n",
      "      \"thread_id\": \"thread_QILvMeP2NWlLDeF07zB67rks\"\n",
      "    }\n",
      "  ],\n",
      "  \"object\": \"list\",\n",
      "  \"first_id\": \"msg_n5crl3tXkSidhIcwSUwDzCWt\",\n",
      "  \"last_id\": \"msg_y1dOe40xAfxyPPe54ZsdTUpV\",\n",
      "  \"has_more\": false\n",
      "}\n"
     ]
    }
   ],
   "source": [
    "messages = client.beta.threads.messages.list(\n",
    "  thread_id=thread.id\n",
    ")\n",
    "\n",
    "print(messages.model_dump_json(indent=2))"
   ]
  },
  {
   "cell_type": "code",
   "execution_count": 33,
   "metadata": {},
   "outputs": [
    {
     "name": "stdout",
     "output_type": "stream",
     "text": [
      "assistant-QsABw8YRRI9fWZY4gXWPSq1S\n"
     ]
    }
   ],
   "source": [
    "data = json.loads(messages.model_dump_json(indent=2))  # Load JSON data into a Python object\n",
    "image_file_id = data['data'][0]['content'][0]['image_file']['file_id'] # index numbers can vary if you have had a different conversation over the course of the thread.\n",
    "\n",
    "print(image_file_id)\n",
    "\n",
    "content = client.files.content(image_file_id)\n",
    "image= content.write_to_file(\"dark_sine.png\")\n",
    "\n",
    "# Display the image in the default image viewer\n",
    "image = Image.open(\"dark_sine.png\")\n",
    "image.show()"
   ]
  },
  {
   "cell_type": "markdown",
   "metadata": {},
   "source": [
    "* You can delete the resource"
   ]
  },
  {
   "cell_type": "code",
   "execution_count": 34,
   "metadata": {},
   "outputs": [
    {
     "data": {
      "text/plain": [
       "AssistantDeleted(id='asst_q5teE79T7j2hGCc4EFkF9IzO', deleted=True, object='assistant.deleted')"
      ]
     },
     "execution_count": 34,
     "metadata": {},
     "output_type": "execute_result"
    }
   ],
   "source": [
    "client.beta.assistants.delete(assistant.id)"
   ]
  }
 ],
 "metadata": {
  "kernelspec": {
   "display_name": ".venv",
   "language": "python",
   "name": "python3"
  },
  "language_info": {
   "codemirror_mode": {
    "name": "ipython",
    "version": 3
   },
   "file_extension": ".py",
   "mimetype": "text/x-python",
   "name": "python",
   "nbconvert_exporter": "python",
   "pygments_lexer": "ipython3",
   "version": "3.12.7"
  }
 },
 "nbformat": 4,
 "nbformat_minor": 2
}
