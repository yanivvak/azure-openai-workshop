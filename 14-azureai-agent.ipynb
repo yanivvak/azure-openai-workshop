{
 "cells": [
  {
   "cell_type": "markdown",
   "metadata": {},
   "source": [
    "\n",
    "\n",
    "\"\"\"\n",
    "DESCRIPTION:\n",
    "    This sample demonstrates how to use basic agent operations from\n",
    "    the Azure Agents service using a synchronous client.\n",
    "\n",
    "USAGE:\n",
    "    python sample_agents_basics.py\n",
    "\n",
    "    Before running the sample:\n",
    "\n",
    "    pip install azure-ai-projects azure-identity\n",
    "\n",
    "    Set this environment variables with your own values:\n",
    "    PROJECT_CONNECTION_STRING - the Azure AI Project connection string, as found in your AI Foundry project.\n",
    "\"\"\"\n"
   ]
  },
  {
   "cell_type": "code",
   "execution_count": 1,
   "metadata": {},
   "outputs": [
    {
     "name": "stdout",
     "output_type": "stream",
     "text": [
      "Collecting azure-ai-projects\n",
      "  Downloading azure_ai_projects-1.0.0b4-py3-none-any.whl.metadata (52 kB)\n",
      "Requirement already satisfied: isodate>=0.6.1 in ./.venv/lib/python3.12/site-packages (from azure-ai-projects) (0.7.2)\n",
      "Requirement already satisfied: azure-core>=1.30.0 in ./.venv/lib/python3.12/site-packages (from azure-ai-projects) (1.32.0)\n",
      "Requirement already satisfied: typing-extensions>=4.12.2 in ./.venv/lib/python3.12/site-packages (from azure-ai-projects) (4.12.2)\n",
      "Requirement already satisfied: requests>=2.21.0 in ./.venv/lib/python3.12/site-packages (from azure-core>=1.30.0->azure-ai-projects) (2.32.3)\n",
      "Requirement already satisfied: six>=1.11.0 in ./.venv/lib/python3.12/site-packages (from azure-core>=1.30.0->azure-ai-projects) (1.17.0)\n",
      "Requirement already satisfied: charset-normalizer<4,>=2 in ./.venv/lib/python3.12/site-packages (from requests>=2.21.0->azure-core>=1.30.0->azure-ai-projects) (3.4.0)\n",
      "Requirement already satisfied: idna<4,>=2.5 in ./.venv/lib/python3.12/site-packages (from requests>=2.21.0->azure-core>=1.30.0->azure-ai-projects) (3.10)\n",
      "Requirement already satisfied: urllib3<3,>=1.21.1 in ./.venv/lib/python3.12/site-packages (from requests>=2.21.0->azure-core>=1.30.0->azure-ai-projects) (2.2.3)\n",
      "Requirement already satisfied: certifi>=2017.4.17 in ./.venv/lib/python3.12/site-packages (from requests>=2.21.0->azure-core>=1.30.0->azure-ai-projects) (2024.12.14)\n",
      "Downloading azure_ai_projects-1.0.0b4-py3-none-any.whl (192 kB)\n",
      "Installing collected packages: azure-ai-projects\n",
      "Successfully installed azure-ai-projects-1.0.0b4\n",
      "Note: you may need to restart the kernel to use updated packages.\n"
     ]
    }
   ],
   "source": [
    "%pip install azure-ai-projects"
   ]
  },
  {
   "cell_type": "code",
   "execution_count": 2,
   "metadata": {},
   "outputs": [
    {
     "name": "stdout",
     "output_type": "stream",
     "text": [
      "Created agent, agent ID: asst_6PSZdiQE3NjxnSuD7vgkBk5z\n",
      "Created thread, thread ID: thread_hCniEpGMjbkXUOF9t8mrNiCs\n",
      "Created message, message ID: msg_nfIATD9n6cKRLe02eTBhDHrK\n",
      "Run status: RunStatus.IN_PROGRESS\n",
      "Run status: RunStatus.COMPLETED\n",
      "Deleted agent\n",
      "MessageRole.USER: Hello, tell me a joke\n",
      "MessageRole.AGENT: Sure, here's a classic one for you:\n",
      "\n",
      "Why don't scientists trust atoms?\n",
      "\n",
      "Because they make up everything!\n",
      "Messages: {'object': 'list', 'data': [{'id': 'msg_Hsz9F3v4iKcSHsYFlowzasre', 'object': 'thread.message', 'created_at': 1734982441, 'assistant_id': 'asst_6PSZdiQE3NjxnSuD7vgkBk5z', 'thread_id': 'thread_hCniEpGMjbkXUOF9t8mrNiCs', 'run_id': 'run_vUbjHRjQevPxkk0Gapvn5jG1', 'role': 'assistant', 'content': [{'type': 'text', 'text': {'value': \"Sure, here's a classic one for you:\\n\\nWhy don't scientists trust atoms?\\n\\nBecause they make up everything!\", 'annotations': []}}], 'attachments': [], 'metadata': {}}, {'id': 'msg_nfIATD9n6cKRLe02eTBhDHrK', 'object': 'thread.message', 'created_at': 1734982440, 'assistant_id': None, 'thread_id': 'thread_hCniEpGMjbkXUOF9t8mrNiCs', 'run_id': None, 'role': 'user', 'content': [{'type': 'text', 'text': {'value': 'Hello, tell me a joke', 'annotations': []}}], 'attachments': [], 'metadata': {}}], 'first_id': 'msg_Hsz9F3v4iKcSHsYFlowzasre', 'last_id': 'msg_nfIATD9n6cKRLe02eTBhDHrK', 'has_more': False}\n"
     ]
    }
   ],
   "source": [
    "#https://learn.microsoft.com/en-us/azure/ai-services/agents/concepts/model-region-support?tabs=python#azure-openai-models\n",
    "import os, time\n",
    "from azure.ai.projects import AIProjectClient\n",
    "from azure.identity import DefaultAzureCredential\n",
    "from azure.ai.projects.models import MessageTextContent\n",
    "\n",
    "# [START create_project_client]\n",
    "project_client = AIProjectClient.from_connection_string(\n",
    "    credential=DefaultAzureCredential(),\n",
    "    conn_str=os.environ[\"PROJECT_CONNECTION_STRING\"],\n",
    ")\n",
    "# [END create_project_client]\n",
    "\n",
    "with project_client:\n",
    "\n",
    "    # [START create_agent]\n",
    "    agent = project_client.agents.create_agent(\n",
    "        model=\"gpt-4o\",\n",
    "        name=\"a1\",\n",
    "        instructions=\"You are helpful assistant\",\n",
    "    )\n",
    "    # [END create_agent]\n",
    "    print(f\"Created agent, agent ID: {agent.id}\")\n",
    "\n",
    "    # [START create_thread]\n",
    "    thread = project_client.agents.create_thread()\n",
    "    # [END create_thread]\n",
    "    print(f\"Created thread, thread ID: {thread.id}\")\n",
    "\n",
    "    # [START create_message]\n",
    "    message = project_client.agents.create_message(thread_id=thread.id, role=\"user\", content=\"Hello, tell me a joke\")\n",
    "    # [END create_message]\n",
    "    print(f\"Created message, message ID: {message.id}\")\n",
    "\n",
    "    # [START create_run]\n",
    "    run = project_client.agents.create_run(thread_id=thread.id, assistant_id=agent.id)\n",
    "\n",
    "    # Poll the run as long as run status is queued or in progress\n",
    "    while run.status in [\"queued\", \"in_progress\", \"requires_action\"]:\n",
    "        # Wait for a second\n",
    "        time.sleep(1)\n",
    "        run = project_client.agents.get_run(thread_id=thread.id, run_id=run.id)\n",
    "        # [END create_run]\n",
    "        print(f\"Run status: {run.status}\")\n",
    "\n",
    "    project_client.agents.delete_agent(agent.id)\n",
    "    print(\"Deleted agent\")\n",
    "\n",
    "    # [START list_messages]\n",
    "    messages = project_client.agents.list_messages(thread_id=thread.id)\n",
    "\n",
    "    # The messages are following in the reverse order,\n",
    "    # we will iterate them and output only text contents.\n",
    "    for data_point in reversed(messages.data):\n",
    "        last_message_content = data_point.content[-1]\n",
    "        if isinstance(last_message_content, MessageTextContent):\n",
    "            print(f\"{data_point.role}: {last_message_content.text.value}\")\n",
    "\n",
    "    # [END list_messages]\n",
    "    print(f\"Messages: {messages}\")"
   ]
  },
  {
   "cell_type": "code",
   "execution_count": null,
   "metadata": {},
   "outputs": [],
   "source": [
    "project_client.agents.delete_agent(agent.id)\n",
    "print(\"Deleted agent\")\n",
    "\n",
    "# [START list_messages]\n",
    "messages = project_client.agents.list_messages(thread_id=thread.id)\n",
    "\n",
    "# The messages are following in the reverse order,\n",
    "# we will iterate them and output only text contents.\n",
    "for data_point in reversed(messages.data):\n",
    "    last_message_content = data_point.content[-1]\n",
    "    if isinstance(last_message_content, MessageTextContent):\n",
    "        print(f\"{data_point.role}: {last_message_content.text.value}\")\n",
    "\n",
    "# [END list_messages]\n",
    "print(f\"Messages: {messages}\")"
   ]
  }
 ],
 "metadata": {
  "kernelspec": {
   "display_name": ".venv",
   "language": "python",
   "name": "python3"
  },
  "language_info": {
   "codemirror_mode": {
    "name": "ipython",
    "version": 3
   },
   "file_extension": ".py",
   "mimetype": "text/x-python",
   "name": "python",
   "nbconvert_exporter": "python",
   "pygments_lexer": "ipython3",
   "version": "3.12.7"
  }
 },
 "nbformat": 4,
 "nbformat_minor": 2
}
