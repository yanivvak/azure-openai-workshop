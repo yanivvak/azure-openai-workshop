{
 "cells": [
  {
   "cell_type": "code",
   "execution_count": null,
   "id": "368be421",
   "metadata": {},
   "outputs": [],
   "source": [
    "## Environment Setup\n",
    "\n",
    "This workshop now uses **uv** for modern Python dependency management. \n",
    "\n",
    "### Quick Setup\n",
    "If you haven't set up the environment yet:\n",
    "\n",
    "```bash\n",
    "# Install dependencies\n",
    "uv sync\n",
    "\n",
    "# Activate environment (optional - uv run handles this automatically)\n",
    "source .venv/bin/activate\n",
    "\n",
    "# Start Jupyter\n",
    "uv run jupyter lab\n",
    "```\n",
    "\n",
    "### Verify Installation\n",
    "Run the cell below to verify all packages are installed correctly."
   ]
  },
  {
   "cell_type": "code",
   "execution_count": null,
   "id": "081e3e4b",
   "metadata": {},
   "outputs": [],
   "source": [
    "# Verify environment setup\n",
    "try:\n",
    "    import openai\n",
    "    import azure.ai.projects\n",
    "    import azure.ai.inference\n",
    "    import azure.identity\n",
    "    import pandas as pd\n",
    "    import numpy as np\n",
    "    \n",
    "    print(\"✅ Environment Setup Successful!\")\n",
    "    print(\"-\" * 40)\n",
    "    print(f\"📦 OpenAI SDK: {openai.__version__}\")\n",
    "    print(f\"📦 Pandas: {pd.__version__}\")\n",
    "    print(f\"📦 NumPy: {np.__version__}\")\n",
    "    print(\"\\n🚀 Ready to proceed with the workshop!\")\n",
    "    \n",
    "except ImportError as e:\n",
    "    print(f\"❌ Import error: {e}\")\n",
    "    print(\"\\n💡 Setup required:\")\n",
    "    print(\"1. Run: uv sync\")\n",
    "    print(\"2. Make sure you're using the correct kernel\")\n",
    "    print(\"3. Restart this notebook\")"
   ]
  }
 ],
 "metadata": {
  "language_info": {
   "name": "python"
  }
 },
 "nbformat": 4,
 "nbformat_minor": 5
}
