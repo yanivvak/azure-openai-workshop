{
 "cells": [
  {
   "cell_type": "code",
   "execution_count": null,
   "metadata": {},
   "outputs": [],
   "source": [
    "import os\n",
    "from dotenv import load_dotenv\n",
    "\n",
    " # Add Azure OpenAI package\n",
    "from openai import AzureOpenAI"
   ]
  },
  {
   "cell_type": "code",
   "execution_count": null,
   "metadata": {},
   "outputs": [],
   "source": [
    "# Get configuration settings \n",
    "load_dotenv()\n",
    "azure_oai_endpoint = os.getenv(\"AZURE_OPENAI_ENDPOINT\")\n",
    "azure_oai_key = os.getenv(\"AZURE_OPENAI_KEY\")\n",
    "azure_oai_model = os.getenv(\"AZURE_OPENAI_MODEL\")\n",
    "\n",
    "# Configure the Azure OpenAI client\n",
    "client = AzureOpenAI(\n",
    "    azure_endpoint = azure_oai_endpoint, \n",
    "    api_key=azure_oai_key,  \n",
    "    api_version=\"2024-02-15-preview\"\n",
    "    )"
   ]
  },
  {
   "cell_type": "markdown",
   "metadata": {},
   "source": [
    "1: Basic prompt (no prompt engineering) -> basic.txt"
   ]
  },
  {
   "cell_type": "code",
   "execution_count": null,
   "metadata": {},
   "outputs": [],
   "source": [
    "\n",
    "# In this sample, each file contains both the system and user messages\n",
    "# First, read them into variables, strip whitespace, then build the messages array\n",
    "\n",
    "with open(\"data/prompts/basic.txt\", \"r\", encoding=\"utf8\") as file:\n",
    "    system_message = file.readline().split(':', 1)[1].strip()\n",
    "    user_message = file.readline().split(':', 1)[1].strip()\n",
    "\n",
    "# Print the messages to the console\n",
    "print(\"System message: \" + system_message)\n",
    "print(\"User message: \" + user_message)\n",
    "\n",
    "# Format and send the request to the model\n",
    "messages =[\n",
    "{\"role\": \"system\", \"content\": system_message},\n",
    "{\"role\": \"user\", \"content\": user_message},\n",
    "]\n",
    "\n",
    "# Call the Azure OpenAI model\n",
    "response = client.chat.completions.create(\n",
    "model=azure_oai_model,\n",
    "messages=messages,\n",
    "temperature=0.2,\n",
    "max_tokens=300\n",
    ")\n",
    "\n",
    "print(\"Completion: \\n\\n\" + response.choices[0].message.content)"
   ]
  },
  {
   "cell_type": "markdown",
   "metadata": {},
   "source": [
    "2: Prompt with email formatting and basic system message -> email-format.txt"
   ]
  },
  {
   "cell_type": "code",
   "execution_count": null,
   "metadata": {},
   "outputs": [],
   "source": [
    "\n",
    "with open(\"data/prompts/email-format.txt\", \"r\", encoding=\"utf8\") as file:\n",
    "    system_message = file.readline().split(':', 1)[1].strip()\n",
    "    user_message = file.readline().split(':', 1)[1].strip()\n",
    "\n",
    "# Print the messages to the console\n",
    "print(\"System message: \" + system_message)\n",
    "print(\"User message: \" + user_message)\n",
    "\n",
    "# Format and send the request to the model\n",
    "messages =[\n",
    "{\"role\": \"system\", \"content\": system_message},\n",
    "{\"role\": \"user\", \"content\": user_message},\n",
    "]\n",
    "\n",
    "# Call the Azure OpenAI model\n",
    "response = client.chat.completions.create(\n",
    "model=azure_oai_model,\n",
    "messages=messages,\n",
    "temperature=0.2,\n",
    "max_tokens=300\n",
    ")\n",
    "\n",
    "print(\"Completion: \\n\\n\" + response.choices[0].message.content)"
   ]
  },
  {
   "cell_type": "markdown",
   "metadata": {},
   "source": [
    "3: Prompt with formatting and specifying content -> specify-content.txt"
   ]
  },
  {
   "cell_type": "code",
   "execution_count": null,
   "metadata": {},
   "outputs": [],
   "source": [
    "with open(\"data/prompts/specify-content.txt\", \"r\", encoding=\"utf8\") as file:\n",
    "    system_message = file.readline().split(':', 1)[1].strip()\n",
    "    user_message = file.readline().split(':', 1)[1].strip()\n",
    "\n",
    "# Print the messages to the console\n",
    "print(\"System message: \" + system_message)\n",
    "print(\"User message: \" + user_message)\n",
    "\n",
    "# Format and send the request to the model\n",
    "messages =[\n",
    "{\"role\": \"system\", \"content\": system_message},\n",
    "{\"role\": \"user\", \"content\": user_message},\n",
    "]\n",
    "\n",
    "# Call the Azure OpenAI model\n",
    "response = client.chat.completions.create(\n",
    "model=azure_oai_model,\n",
    "messages=messages,\n",
    "temperature=0.2,\n",
    "max_tokens=300\n",
    ")\n",
    "\n",
    "print(\"Completion: \\n\\n\" + response.choices[0].message.content)\n"
   ]
  },
  {
   "cell_type": "markdown",
   "metadata": {},
   "source": [
    "4: Prompt adjusting system message to be light and use jokes -> specify-tone.txt"
   ]
  },
  {
   "cell_type": "code",
   "execution_count": null,
   "metadata": {},
   "outputs": [],
   "source": [
    "with open(\"data/prompts/specify-tone.txt\", \"r\", encoding=\"utf8\") as file:\n",
    "    system_message = file.readline().split(':', 1)[1].strip()\n",
    "    user_message = file.readline().split(':', 1)[1].strip()\n",
    "\n",
    "# Print the messages to the console\n",
    "print(\"System message: \" + system_message)\n",
    "print(\"User message: \" + user_message)\n",
    "\n",
    "# Format and send the request to the model\n",
    "messages =[\n",
    "{\"role\": \"system\", \"content\": system_message},\n",
    "{\"role\": \"user\", \"content\": user_message},\n",
    "]\n",
    "\n",
    "# Call the Azure OpenAI model\n",
    "response = client.chat.completions.create(\n",
    "model=azure_oai_model,\n",
    "messages=messages,\n",
    "temperature=0.2,\n",
    "max_tokens=300\n",
    ")\n",
    "\n",
    "print(\"Completion: \\n\\n\" + response.choices[0].message.content)"
   ]
  }
 ],
 "metadata": {
  "kernelspec": {
   "display_name": "Python 3",
   "language": "python",
   "name": "python3"
  },
  "language_info": {
   "codemirror_mode": {
    "name": "ipython",
    "version": 3
   },
   "file_extension": ".py",
   "mimetype": "text/x-python",
   "name": "python",
   "nbconvert_exporter": "python",
   "pygments_lexer": "ipython3",
   "version": "3.11.8"
  }
 },
 "nbformat": 4,
 "nbformat_minor": 2
}
