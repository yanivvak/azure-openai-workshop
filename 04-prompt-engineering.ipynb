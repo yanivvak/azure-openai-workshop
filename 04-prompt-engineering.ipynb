{
 "cells": [
  {
   "cell_type": "code",
   "execution_count": 4,
   "metadata": {},
   "outputs": [],
   "source": [
    "import os\n",
    "from openai import AzureOpenAI\n",
    "from dotenv import load_dotenv\n",
    "load_dotenv()\n",
    "\n",
    "# Get configuration settings \n",
    "azure_oai_endpoint = os.getenv(\"AZURE_OPENAI_ENDPOINT\")\n",
    "azure_oai_key = os.getenv(\"AZURE_OPENAI_KEY\")\n",
    "azure_oai_model = os.getenv(\"AZURE_OPENAI_MODEL\")\n",
    "api_version = os.getenv(\"API_VERSION\")"
   ]
  },
  {
   "cell_type": "code",
   "execution_count": 5,
   "metadata": {},
   "outputs": [],
   "source": [
    "# Configure the Azure OpenAI client\n",
    "client = AzureOpenAI(\n",
    "    azure_endpoint = azure_oai_endpoint, \n",
    "    api_key=azure_oai_key,  \n",
    "    api_version=api_version\n",
    "    )"
   ]
  },
  {
   "cell_type": "markdown",
   "metadata": {},
   "source": [
    "1: Basic prompt (no prompt engineering) -> basic.txt"
   ]
  },
  {
   "cell_type": "code",
   "execution_count": 6,
   "metadata": {},
   "outputs": [
    {
     "name": "stdout",
     "output_type": "stream",
     "text": [
      "System message: You are an AI assistant\n",
      "User message: Write an intro for a new wildlife Rescue\n",
      "Completion: \n",
      "\n",
      "Welcome to Haven of Hope Wildlife Rescue, a sanctuary where the welfare of our planet's most vulnerable creatures is at the heart of everything we do. Nestled in the embrace of nature's untamed beauty, our rescue center is a beacon of compassion and rehabilitation for injured, orphaned, and displaced wildlife.\n",
      "\n",
      "Our mission is to provide a safe haven for wildlife in need, offering them a second chance at life through expert medical care, nurturing rehabilitation, and eventual release back into their natural habitats. At Haven of Hope, we believe that every creature, great and small, deserves the opportunity to thrive.\n",
      "\n",
      "As we open our doors to the community and the countless animals who will cross our threshold, we invite you to join us on this extraordinary journey. Together, we can make a difference in the lives of wildlife and inspire a deeper connection with the natural world around us. Welcome to a place of healing, education, and conservation—welcome to Haven of Hope Wildlife Rescue.\n"
     ]
    }
   ],
   "source": [
    "\n",
    "# In this sample, each file contains both the system and user messages\n",
    "# First, read them into variables, strip whitespace, then build the messages array\n",
    "\n",
    "with open(\"data/prompts/basic.txt\", \"r\", encoding=\"utf8\") as file:\n",
    "    system_message = file.readline().split(':', 1)[1].strip()\n",
    "    user_message = file.readline().split(':', 1)[1].strip()\n",
    "\n",
    "# Print the messages to the console\n",
    "print(\"System message: \" + system_message)\n",
    "print(\"User message: \" + user_message)\n",
    "\n",
    "# Format and send the request to the model\n",
    "messages =[\n",
    "{\"role\": \"system\", \"content\": system_message},\n",
    "{\"role\": \"user\", \"content\": user_message},\n",
    "]\n",
    "\n",
    "# Call the Azure OpenAI model\n",
    "response = client.chat.completions.create(\n",
    "model=azure_oai_model,\n",
    "messages=messages,\n",
    "temperature=0.2,\n",
    "max_tokens=300\n",
    ")\n",
    "\n",
    "print(\"Completion: \\n\\n\" + response.choices[0].message.content)"
   ]
  },
  {
   "cell_type": "markdown",
   "metadata": {},
   "source": [
    "2: Prompt with email formatting and basic system message -> email-format.txt"
   ]
  },
  {
   "cell_type": "code",
   "execution_count": 7,
   "metadata": {},
   "outputs": [
    {
     "name": "stdout",
     "output_type": "stream",
     "text": [
      "System message: You are an AI assistant helping to write emails\n",
      "User message: Write a promotional email for a new wildlife rescue, including the following: - Rescue name is Contoso - It specializes in elephants - Call for donations to be given at our website\n",
      "Completion: \n",
      "\n",
      "Subject: Join Contoso in Making a Difference for Elephants Today!\n",
      "\n",
      "Dear [Recipient's Name],\n",
      "\n",
      "We are thrilled to introduce you to Contoso, a new beacon of hope for one of nature's most majestic creatures: the elephant. At Contoso Wildlife Rescue, we are dedicated to the rescue, rehabilitation, and release of elephants who have been displaced, injured, or orphaned in the wild.\n",
      "\n",
      "Elephants are not just an iconic symbol of strength and memory; they are also a vital part of our planet's ecosystem. Unfortunately, they face numerous threats, including poaching, habitat loss, and human-elephant conflict. That's where Contoso steps in, and we need your help to make a real difference.\n",
      "\n",
      "Our specialized team of wildlife experts and veterinarians works tirelessly to provide the best care for these gentle giants, ensuring they have a safe haven to recover and thrive. But the road to rescue and rehabilitation is not an easy one—it requires resources, dedication, and the support of compassionate individuals like you.\n",
      "\n",
      "This is your chance to be part of a noble cause. Your donation can help us:\n",
      "\n",
      "- Provide medical treatment for injured elephants\n",
      "- Offer ongoing care and nourishment for our elephant residents\n",
      "- Support our efforts to reintroduce healthy elephants back into the wild\n",
      "- Expand our facilities to rescue more elephants in need\n",
      "- Educate communities on the importance of elephant conservation\n",
      "\n",
      "Every contribution, no matter the size, makes a significant impact on our ability to protect these incredible animals. We\n"
     ]
    }
   ],
   "source": [
    "\n",
    "with open(\"data/prompts/email-format.txt\", \"r\", encoding=\"utf8\") as file:\n",
    "    system_message = file.readline().split(':', 1)[1].strip()\n",
    "    user_message = file.readline().split(':', 1)[1].strip()\n",
    "\n",
    "# Print the messages to the console\n",
    "print(\"System message: \" + system_message)\n",
    "print(\"User message: \" + user_message)\n",
    "\n",
    "# Format and send the request to the model\n",
    "messages =[\n",
    "{\"role\": \"system\", \"content\": system_message},\n",
    "{\"role\": \"user\", \"content\": user_message},\n",
    "]\n",
    "\n",
    "# Call the Azure OpenAI model\n",
    "response = client.chat.completions.create(\n",
    "model=azure_oai_model,\n",
    "messages=messages,\n",
    "temperature=0.2,\n",
    "max_tokens=300\n",
    ")\n",
    "\n",
    "print(\"Completion: \\n\\n\" + response.choices[0].message.content)"
   ]
  },
  {
   "cell_type": "markdown",
   "metadata": {},
   "source": [
    "3: Prompt with formatting and specifying content -> specify-content.txt"
   ]
  },
  {
   "cell_type": "code",
   "execution_count": 8,
   "metadata": {},
   "outputs": [
    {
     "name": "stdout",
     "output_type": "stream",
     "text": [
      "System message: You are an AI assistant helping to write emails\n",
      "User message: Write a promotional email for a new wildlife rescue, including the following: - Rescue name is Contoso - It specializes in elephants, as well as zebras and giraffes - Call for donations to be given at our website \\n\\n Include a list of the current animals we have at our rescue after the signature, in the form of a table. These animals include elephants, zebras, gorillas, lizards, and jackrabbits.\n",
      "Completion: \n",
      "\n",
      "Subject: Join Contoso in Protecting Majestic Wildlife – Your Support Can Make a Difference!\n",
      "\n",
      "Dear Friend of Wildlife,\n",
      "\n",
      "Imagine a world where the majestic elephants roam freely, where zebras and giraffes grace the horizon with their elegant presence. This vision is at the heart of Contoso, our newly established wildlife rescue sanctuary, dedicated to the protection and rehabilitation of some of the most enchanting creatures on our planet.\n",
      "\n",
      "At Contoso, we specialize in caring for elephants, zebras, and giraffes, providing them with a safe haven where they can thrive away from the threats they face in the wild. Our passionate team of wildlife experts and veterinarians works tirelessly to ensure that these animals receive the love, care, and attention they need to live healthy and happy lives.\n",
      "\n",
      "However, we cannot do this alone. The costs associated with feeding, housing, and providing medical care for these animals are substantial. That's why we're reaching out to compassionate individuals like you to join our cause. Your donations are vital in helping us continue our mission to rescue and rehabilitate these incredible species.\n",
      "\n",
      "**Here's how you can help:**\n",
      "\n",
      "- **Adopt an Animal**: Symbolically adopt one of our residents and receive updates on their progress.\n",
      "- **Make a One-Time Donation**: Every dollar counts towards providing food, shelter, and medical care.\n",
      "- **Become a Monthly Donor**: Join our community of dedicated supporters who contribute regularly to our cause.\n",
      "\n",
      "To show your support, please visit our website and\n"
     ]
    }
   ],
   "source": [
    "with open(\"data/prompts/specify-content.txt\", \"r\", encoding=\"utf8\") as file:\n",
    "    system_message = file.readline().split(':', 1)[1].strip()\n",
    "    user_message = file.readline().split(':', 1)[1].strip()\n",
    "\n",
    "# Print the messages to the console\n",
    "print(\"System message: \" + system_message)\n",
    "print(\"User message: \" + user_message)\n",
    "\n",
    "# Format and send the request to the model\n",
    "messages =[\n",
    "{\"role\": \"system\", \"content\": system_message},\n",
    "{\"role\": \"user\", \"content\": user_message},\n",
    "]\n",
    "\n",
    "# Call the Azure OpenAI model\n",
    "response = client.chat.completions.create(\n",
    "model=azure_oai_model,\n",
    "messages=messages,\n",
    "temperature=0.2,\n",
    "max_tokens=300\n",
    ")\n",
    "\n",
    "print(\"Completion: \\n\\n\" + response.choices[0].message.content)"
   ]
  },
  {
   "cell_type": "markdown",
   "metadata": {},
   "source": [
    "4: Prompt adjusting system message to be light and use jokes -> specify-tone.txt"
   ]
  },
  {
   "cell_type": "code",
   "execution_count": 9,
   "metadata": {},
   "outputs": [
    {
     "name": "stdout",
     "output_type": "stream",
     "text": [
      "System message: You are an AI assistant that helps write promotional emails to generate interest in a new business. Your tone is light, chit-chat oriented and you always include at least two jokes.\n",
      "User message: Write a promotional email for a new wildlife rescue, including the following: - Rescue name is Contoso - It specializes in elephants, as well as zebras and giraffes - Call for donations to be given at our website \\n\\n Include a list of the current animals we have at our rescue after the signature, in the form of a table. These animals include elephants, zebras, gorillas, lizards, and jackrabbits.\n",
      "Completion: \n",
      "\n",
      "Subject: 🐘🦒 Join the Herd at Contoso Wildlife Rescue – We're Not Lion About Our Love for Animals! 🦓\n",
      "\n",
      "Hey Animal Enthusiasts!\n",
      "\n",
      "Are you ready to trunk-call your inner wildlife hero? Because Contoso Wildlife Rescue is officially open, and we're not just tooting our own horn...bill. We specialize in the gentle giants of the savannah – yes, we're talking about the magnificent elephants! 🐘 But wait, there's more! We also have the stripe-tastic zebras and the long-necked legends, giraffes, all looking for a little love and support.\n",
      "\n",
      "Now, we know what you're thinking, \"I can't adopt an elephant, my bathtub is barely big enough for my rubber duck!\" But don't worry, we're not asking you to turn your home into a mini Serengeti. Instead, we're calling all animal aficionados to join our mission by donating to our cause. Your support will help us provide top-notch care, spacious habitats, and all the peanuts and leaves a pachyderm could dream of.\n",
      "\n",
      "Don't be a cheetah, sprint over to our website and make a donation that counts! Every little bit helps us keep our animals from having to say, \"I'm stuffed\" at mealtime. And trust us, with elephants, that's a BIG deal.\n",
      "\n",
      "Here's the link to make your donation as smooth as a zebra's\n"
     ]
    }
   ],
   "source": [
    "with open(\"data/prompts/specify-tone.txt\", \"r\", encoding=\"utf8\") as file:\n",
    "    system_message = file.readline().split(':', 1)[1].strip()\n",
    "    user_message = file.readline().split(':', 1)[1].strip()\n",
    "\n",
    "# Print the messages to the console\n",
    "print(\"System message: \" + system_message)\n",
    "print(\"User message: \" + user_message)\n",
    "\n",
    "# Format and send the request to the model\n",
    "messages =[\n",
    "{\"role\": \"system\", \"content\": system_message},\n",
    "{\"role\": \"user\", \"content\": user_message},\n",
    "]\n",
    "\n",
    "# Call the Azure OpenAI model\n",
    "response = client.chat.completions.create(\n",
    "model=azure_oai_model,\n",
    "messages=messages,\n",
    "temperature=0.2,\n",
    "max_tokens=300\n",
    ")\n",
    "\n",
    "print(\"Completion: \\n\\n\" + response.choices[0].message.content)"
   ]
  }
 ],
 "metadata": {
  "kernelspec": {
   "display_name": "Python 3",
   "language": "python",
   "name": "python3"
  },
  "language_info": {
   "codemirror_mode": {
    "name": "ipython",
    "version": 3
   },
   "file_extension": ".py",
   "mimetype": "text/x-python",
   "name": "python",
   "nbconvert_exporter": "python",
   "pygments_lexer": "ipython3",
   "version": "3.11.8"
  }
 },
 "nbformat": 4,
 "nbformat_minor": 2
}
